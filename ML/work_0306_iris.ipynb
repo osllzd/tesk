{
 "cells": [
  {
   "cell_type": "markdown",
   "source": [
    "## iris ==> 4features ==>binary classification : 100"
   ],
   "metadata": {
    "collapsed": false
   },
   "id": "4d64f002658bbd8a"
  },
  {
   "cell_type": "code",
   "outputs": [],
   "source": [
    "import pandas as pd\n",
    "import numpy as np"
   ],
   "metadata": {
    "collapsed": false,
    "ExecuteTime": {
     "end_time": "2024-03-06T11:40:17.496783200Z",
     "start_time": "2024-03-06T11:40:17.239184100Z"
    }
   },
   "id": "f254e507fd081289",
   "execution_count": 76
  },
  {
   "cell_type": "code",
   "outputs": [
    {
     "data": {
      "text/plain": "     sepal.length  sepal.width  petal.length  petal.width    variety\n0             5.1          3.5           1.4          0.2     Setosa\n1             4.9          3.0           1.4          0.2     Setosa\n2             4.7          3.2           1.3          0.2     Setosa\n3             4.6          3.1           1.5          0.2     Setosa\n4             5.0          3.6           1.4          0.2     Setosa\n..            ...          ...           ...          ...        ...\n145           6.7          3.0           5.2          2.3  Virginica\n146           6.3          2.5           5.0          1.9  Virginica\n147           6.5          3.0           5.2          2.0  Virginica\n148           6.2          3.4           5.4          2.3  Virginica\n149           5.9          3.0           5.1          1.8  Virginica\n\n[150 rows x 5 columns]",
      "text/html": "<div>\n<style scoped>\n    .dataframe tbody tr th:only-of-type {\n        vertical-align: middle;\n    }\n\n    .dataframe tbody tr th {\n        vertical-align: top;\n    }\n\n    .dataframe thead th {\n        text-align: right;\n    }\n</style>\n<table border=\"1\" class=\"dataframe\">\n  <thead>\n    <tr style=\"text-align: right;\">\n      <th></th>\n      <th>sepal.length</th>\n      <th>sepal.width</th>\n      <th>petal.length</th>\n      <th>petal.width</th>\n      <th>variety</th>\n    </tr>\n  </thead>\n  <tbody>\n    <tr>\n      <th>0</th>\n      <td>5.1</td>\n      <td>3.5</td>\n      <td>1.4</td>\n      <td>0.2</td>\n      <td>Setosa</td>\n    </tr>\n    <tr>\n      <th>1</th>\n      <td>4.9</td>\n      <td>3.0</td>\n      <td>1.4</td>\n      <td>0.2</td>\n      <td>Setosa</td>\n    </tr>\n    <tr>\n      <th>2</th>\n      <td>4.7</td>\n      <td>3.2</td>\n      <td>1.3</td>\n      <td>0.2</td>\n      <td>Setosa</td>\n    </tr>\n    <tr>\n      <th>3</th>\n      <td>4.6</td>\n      <td>3.1</td>\n      <td>1.5</td>\n      <td>0.2</td>\n      <td>Setosa</td>\n    </tr>\n    <tr>\n      <th>4</th>\n      <td>5.0</td>\n      <td>3.6</td>\n      <td>1.4</td>\n      <td>0.2</td>\n      <td>Setosa</td>\n    </tr>\n    <tr>\n      <th>...</th>\n      <td>...</td>\n      <td>...</td>\n      <td>...</td>\n      <td>...</td>\n      <td>...</td>\n    </tr>\n    <tr>\n      <th>145</th>\n      <td>6.7</td>\n      <td>3.0</td>\n      <td>5.2</td>\n      <td>2.3</td>\n      <td>Virginica</td>\n    </tr>\n    <tr>\n      <th>146</th>\n      <td>6.3</td>\n      <td>2.5</td>\n      <td>5.0</td>\n      <td>1.9</td>\n      <td>Virginica</td>\n    </tr>\n    <tr>\n      <th>147</th>\n      <td>6.5</td>\n      <td>3.0</td>\n      <td>5.2</td>\n      <td>2.0</td>\n      <td>Virginica</td>\n    </tr>\n    <tr>\n      <th>148</th>\n      <td>6.2</td>\n      <td>3.4</td>\n      <td>5.4</td>\n      <td>2.3</td>\n      <td>Virginica</td>\n    </tr>\n    <tr>\n      <th>149</th>\n      <td>5.9</td>\n      <td>3.0</td>\n      <td>5.1</td>\n      <td>1.8</td>\n      <td>Virginica</td>\n    </tr>\n  </tbody>\n</table>\n<p>150 rows × 5 columns</p>\n</div>"
     },
     "execution_count": 77,
     "metadata": {},
     "output_type": "execute_result"
    }
   ],
   "source": [
    "irisDF = pd.read_csv('iris.csv')\n",
    "irisDF"
   ],
   "metadata": {
    "collapsed": false,
    "ExecuteTime": {
     "end_time": "2024-03-06T11:40:17.537779Z",
     "start_time": "2024-03-06T11:40:17.396914700Z"
    }
   },
   "id": "47e71a1006e3bea8",
   "execution_count": 77
  },
  {
   "cell_type": "code",
   "outputs": [
    {
     "name": "stdout",
     "output_type": "stream",
     "text": [
      "<class 'pandas.core.frame.DataFrame'>\n",
      "RangeIndex: 150 entries, 0 to 149\n",
      "Data columns (total 5 columns):\n",
      " #   Column        Non-Null Count  Dtype  \n",
      "---  ------        --------------  -----  \n",
      " 0   sepal.length  150 non-null    float64\n",
      " 1   sepal.width   150 non-null    float64\n",
      " 2   petal.length  150 non-null    float64\n",
      " 3   petal.width   150 non-null    float64\n",
      " 4   variety       150 non-null    object \n",
      "dtypes: float64(4), object(1)\n",
      "memory usage: 6.0+ KB\n"
     ]
    }
   ],
   "source": [
    "irisDF.info()"
   ],
   "metadata": {
    "collapsed": false,
    "ExecuteTime": {
     "end_time": "2024-03-06T11:40:17.595328600Z",
     "start_time": "2024-03-06T11:40:17.508077800Z"
    }
   },
   "id": "7c0060dc26c689bb",
   "execution_count": 78
  },
  {
   "cell_type": "code",
   "outputs": [
    {
     "data": {
      "text/plain": "       sepal.length  sepal.width  petal.length  petal.width\ncount    150.000000   150.000000    150.000000   150.000000\nmean       5.843333     3.057333      3.758000     1.199333\nstd        0.828066     0.435866      1.765298     0.762238\nmin        4.300000     2.000000      1.000000     0.100000\n25%        5.100000     2.800000      1.600000     0.300000\n50%        5.800000     3.000000      4.350000     1.300000\n75%        6.400000     3.300000      5.100000     1.800000\nmax        7.900000     4.400000      6.900000     2.500000",
      "text/html": "<div>\n<style scoped>\n    .dataframe tbody tr th:only-of-type {\n        vertical-align: middle;\n    }\n\n    .dataframe tbody tr th {\n        vertical-align: top;\n    }\n\n    .dataframe thead th {\n        text-align: right;\n    }\n</style>\n<table border=\"1\" class=\"dataframe\">\n  <thead>\n    <tr style=\"text-align: right;\">\n      <th></th>\n      <th>sepal.length</th>\n      <th>sepal.width</th>\n      <th>petal.length</th>\n      <th>petal.width</th>\n    </tr>\n  </thead>\n  <tbody>\n    <tr>\n      <th>count</th>\n      <td>150.000000</td>\n      <td>150.000000</td>\n      <td>150.000000</td>\n      <td>150.000000</td>\n    </tr>\n    <tr>\n      <th>mean</th>\n      <td>5.843333</td>\n      <td>3.057333</td>\n      <td>3.758000</td>\n      <td>1.199333</td>\n    </tr>\n    <tr>\n      <th>std</th>\n      <td>0.828066</td>\n      <td>0.435866</td>\n      <td>1.765298</td>\n      <td>0.762238</td>\n    </tr>\n    <tr>\n      <th>min</th>\n      <td>4.300000</td>\n      <td>2.000000</td>\n      <td>1.000000</td>\n      <td>0.100000</td>\n    </tr>\n    <tr>\n      <th>25%</th>\n      <td>5.100000</td>\n      <td>2.800000</td>\n      <td>1.600000</td>\n      <td>0.300000</td>\n    </tr>\n    <tr>\n      <th>50%</th>\n      <td>5.800000</td>\n      <td>3.000000</td>\n      <td>4.350000</td>\n      <td>1.300000</td>\n    </tr>\n    <tr>\n      <th>75%</th>\n      <td>6.400000</td>\n      <td>3.300000</td>\n      <td>5.100000</td>\n      <td>1.800000</td>\n    </tr>\n    <tr>\n      <th>max</th>\n      <td>7.900000</td>\n      <td>4.400000</td>\n      <td>6.900000</td>\n      <td>2.500000</td>\n    </tr>\n  </tbody>\n</table>\n</div>"
     },
     "execution_count": 79,
     "metadata": {},
     "output_type": "execute_result"
    }
   ],
   "source": [
    "irisDF.describe()"
   ],
   "metadata": {
    "collapsed": false,
    "ExecuteTime": {
     "end_time": "2024-03-06T11:40:17.694571900Z",
     "start_time": "2024-03-06T11:40:17.578448800Z"
    }
   },
   "id": "34aae0d36c857e3",
   "execution_count": 79
  },
  {
   "cell_type": "code",
   "outputs": [
    {
     "data": {
      "text/plain": "(150,)"
     },
     "execution_count": 80,
     "metadata": {},
     "output_type": "execute_result"
    }
   ],
   "source": [
    "targetSR = irisDF['variety']\n",
    "targetSR.shape\n"
   ],
   "metadata": {
    "collapsed": false,
    "ExecuteTime": {
     "end_time": "2024-03-06T11:40:17.761203100Z",
     "start_time": "2024-03-06T11:40:17.628143900Z"
    }
   },
   "id": "2cb8b20f0761d18a",
   "execution_count": 80
  },
  {
   "cell_type": "code",
   "outputs": [],
   "source": [
    "featureDF = irisDF[irisDF.columns[:-1]]"
   ],
   "metadata": {
    "collapsed": false,
    "ExecuteTime": {
     "end_time": "2024-03-06T11:40:17.882954Z",
     "start_time": "2024-03-06T11:40:17.767430400Z"
    }
   },
   "id": "526712913e9f7d64",
   "execution_count": 81
  },
  {
   "cell_type": "code",
   "outputs": [
    {
     "data": {
      "text/plain": "(150, 4)"
     },
     "execution_count": 82,
     "metadata": {},
     "output_type": "execute_result"
    }
   ],
   "source": [
    "featureDF.shape"
   ],
   "metadata": {
    "collapsed": false,
    "ExecuteTime": {
     "end_time": "2024-03-06T11:40:17.967740300Z",
     "start_time": "2024-03-06T11:40:17.865011300Z"
    }
   },
   "id": "f83982ec71c9ae11",
   "execution_count": 82
  },
  {
   "cell_type": "code",
   "outputs": [],
   "source": [
    "from sklearn.model_selection import train_test_split\n",
    "X_train, X_test, y_train, y_test = train_test_split(featureDF,targetSR,stratify=targetSR,random_state=101)"
   ],
   "metadata": {
    "collapsed": false,
    "ExecuteTime": {
     "end_time": "2024-03-06T11:40:17.996655Z",
     "start_time": "2024-03-06T11:40:17.932906200Z"
    }
   },
   "id": "4afed7f6f17bafb1",
   "execution_count": 83
  },
  {
   "cell_type": "code",
   "outputs": [],
   "source": [
    "# 스케일링"
   ],
   "metadata": {
    "collapsed": false,
    "ExecuteTime": {
     "end_time": "2024-03-06T11:40:18.054451400Z",
     "start_time": "2024-03-06T11:40:17.979700100Z"
    }
   },
   "id": "3fde4795b6069ce3",
   "execution_count": 84
  },
  {
   "cell_type": "code",
   "outputs": [],
   "source": [
    "from sklearn.preprocessing import StandardScaler"
   ],
   "metadata": {
    "collapsed": false,
    "ExecuteTime": {
     "end_time": "2024-03-06T11:40:18.107520Z",
     "start_time": "2024-03-06T11:40:18.038503900Z"
    }
   },
   "id": "ef96da416bae8941",
   "execution_count": 85
  },
  {
   "cell_type": "code",
   "outputs": [
    {
     "data": {
      "text/plain": "StandardScaler()",
      "text/html": "<style>#sk-container-id-5 {color: black;}#sk-container-id-5 pre{padding: 0;}#sk-container-id-5 div.sk-toggleable {background-color: white;}#sk-container-id-5 label.sk-toggleable__label {cursor: pointer;display: block;width: 100%;margin-bottom: 0;padding: 0.3em;box-sizing: border-box;text-align: center;}#sk-container-id-5 label.sk-toggleable__label-arrow:before {content: \"▸\";float: left;margin-right: 0.25em;color: #696969;}#sk-container-id-5 label.sk-toggleable__label-arrow:hover:before {color: black;}#sk-container-id-5 div.sk-estimator:hover label.sk-toggleable__label-arrow:before {color: black;}#sk-container-id-5 div.sk-toggleable__content {max-height: 0;max-width: 0;overflow: hidden;text-align: left;background-color: #f0f8ff;}#sk-container-id-5 div.sk-toggleable__content pre {margin: 0.2em;color: black;border-radius: 0.25em;background-color: #f0f8ff;}#sk-container-id-5 input.sk-toggleable__control:checked~div.sk-toggleable__content {max-height: 200px;max-width: 100%;overflow: auto;}#sk-container-id-5 input.sk-toggleable__control:checked~label.sk-toggleable__label-arrow:before {content: \"▾\";}#sk-container-id-5 div.sk-estimator input.sk-toggleable__control:checked~label.sk-toggleable__label {background-color: #d4ebff;}#sk-container-id-5 div.sk-label input.sk-toggleable__control:checked~label.sk-toggleable__label {background-color: #d4ebff;}#sk-container-id-5 input.sk-hidden--visually {border: 0;clip: rect(1px 1px 1px 1px);clip: rect(1px, 1px, 1px, 1px);height: 1px;margin: -1px;overflow: hidden;padding: 0;position: absolute;width: 1px;}#sk-container-id-5 div.sk-estimator {font-family: monospace;background-color: #f0f8ff;border: 1px dotted black;border-radius: 0.25em;box-sizing: border-box;margin-bottom: 0.5em;}#sk-container-id-5 div.sk-estimator:hover {background-color: #d4ebff;}#sk-container-id-5 div.sk-parallel-item::after {content: \"\";width: 100%;border-bottom: 1px solid gray;flex-grow: 1;}#sk-container-id-5 div.sk-label:hover label.sk-toggleable__label {background-color: #d4ebff;}#sk-container-id-5 div.sk-serial::before {content: \"\";position: absolute;border-left: 1px solid gray;box-sizing: border-box;top: 0;bottom: 0;left: 50%;z-index: 0;}#sk-container-id-5 div.sk-serial {display: flex;flex-direction: column;align-items: center;background-color: white;padding-right: 0.2em;padding-left: 0.2em;position: relative;}#sk-container-id-5 div.sk-item {position: relative;z-index: 1;}#sk-container-id-5 div.sk-parallel {display: flex;align-items: stretch;justify-content: center;background-color: white;position: relative;}#sk-container-id-5 div.sk-item::before, #sk-container-id-5 div.sk-parallel-item::before {content: \"\";position: absolute;border-left: 1px solid gray;box-sizing: border-box;top: 0;bottom: 0;left: 50%;z-index: -1;}#sk-container-id-5 div.sk-parallel-item {display: flex;flex-direction: column;z-index: 1;position: relative;background-color: white;}#sk-container-id-5 div.sk-parallel-item:first-child::after {align-self: flex-end;width: 50%;}#sk-container-id-5 div.sk-parallel-item:last-child::after {align-self: flex-start;width: 50%;}#sk-container-id-5 div.sk-parallel-item:only-child::after {width: 0;}#sk-container-id-5 div.sk-dashed-wrapped {border: 1px dashed gray;margin: 0 0.4em 0.5em 0.4em;box-sizing: border-box;padding-bottom: 0.4em;background-color: white;}#sk-container-id-5 div.sk-label label {font-family: monospace;font-weight: bold;display: inline-block;line-height: 1.2em;}#sk-container-id-5 div.sk-label-container {text-align: center;}#sk-container-id-5 div.sk-container {/* jupyter's `normalize.less` sets `[hidden] { display: none; }` but bootstrap.min.css set `[hidden] { display: none !important; }` so we also need the `!important` here to be able to override the default hidden behavior on the sphinx rendered scikit-learn.org. See: https://github.com/scikit-learn/scikit-learn/issues/21755 */display: inline-block !important;position: relative;}#sk-container-id-5 div.sk-text-repr-fallback {display: none;}</style><div id=\"sk-container-id-5\" class=\"sk-top-container\"><div class=\"sk-text-repr-fallback\"><pre>StandardScaler()</pre><b>In a Jupyter environment, please rerun this cell to show the HTML representation or trust the notebook. <br />On GitHub, the HTML representation is unable to render, please try loading this page with nbviewer.org.</b></div><div class=\"sk-container\" hidden><div class=\"sk-item\"><div class=\"sk-estimator sk-toggleable\"><input class=\"sk-toggleable__control sk-hidden--visually\" id=\"sk-estimator-id-9\" type=\"checkbox\" checked><label for=\"sk-estimator-id-9\" class=\"sk-toggleable__label sk-toggleable__label-arrow\">StandardScaler</label><div class=\"sk-toggleable__content\"><pre>StandardScaler()</pre></div></div></div></div></div>"
     },
     "execution_count": 86,
     "metadata": {},
     "output_type": "execute_result"
    }
   ],
   "source": [
    "scaled = StandardScaler()\n",
    "scaled.fit(X_train)"
   ],
   "metadata": {
    "collapsed": false,
    "ExecuteTime": {
     "end_time": "2024-03-06T11:40:18.111433200Z",
     "start_time": "2024-03-06T11:40:18.085813800Z"
    }
   },
   "id": "374e95f757ae533c",
   "execution_count": 86
  },
  {
   "cell_type": "code",
   "outputs": [],
   "source": [
    "iris_X_train = scaled.transform(X_train)\n",
    "iris_X_test = scaled.transform(X_test)"
   ],
   "metadata": {
    "collapsed": false,
    "ExecuteTime": {
     "end_time": "2024-03-06T11:40:18.166680800Z",
     "start_time": "2024-03-06T11:40:18.114423700Z"
    }
   },
   "id": "2a277dd90c098e80",
   "execution_count": 87
  },
  {
   "cell_type": "code",
   "outputs": [
    {
     "data": {
      "text/plain": "array([[ 1.57490972, -0.16528031,  1.23312993,  1.15523567],\n       [-1.31466823, -0.16528031, -1.35213415, -1.18542274],\n       [ 1.07237443, -0.16528031,  0.83097774,  1.41530883],\n       [ 0.82110678, -0.16528031,  0.83097774,  1.0251991 ],\n       [-0.43523146, -1.76503047,  0.14157399,  0.11494305],\n       [ 0.9467406 , -0.16528031,  0.37137524,  0.24497963],\n       [-0.93776676,  0.97739838, -1.35213415, -1.18542274],\n       [ 1.07237443,  0.5203269 ,  1.1182293 ,  1.15523567],\n       [-0.18396381,  1.66300559, -1.17978321, -1.18542274],\n       [ 1.32364208,  0.29179116,  1.1182293 ,  1.41530883],\n       [-0.43523146,  0.97739838, -1.40958446, -1.31545932],\n       [ 1.4492759 ,  0.29179116,  0.54372617,  0.24497963],\n       [ 0.44420531,  0.74886264,  0.94587836,  1.41530883],\n       [ 0.19293766, -0.39381605,  0.42882555,  0.3750162 ],\n       [-1.06340058, -1.76503047, -0.2605782 , -0.27516669],\n       [ 2.57998032,  1.66300559,  1.52038149,  1.0251991 ],\n       [ 2.32871267, -0.16528031,  1.34803055,  1.41530883],\n       [ 1.07237443,  0.06325543,  1.06077899,  1.54534541],\n       [ 0.56983913, -1.307959  ,  0.6586268 ,  0.3750162 ],\n       [-1.06340058,  0.5203269 , -1.35213415, -1.31545932],\n       [ 0.31857148, -0.16528031,  0.48627586,  0.24497963],\n       [ 1.82617737, -0.39381605,  1.46293118,  0.76512594],\n       [-1.06340058,  0.74886264, -1.23723352, -1.05538616],\n       [ 0.82110678, -0.16528031,  1.00332868,  0.76512594],\n       [ 0.19293766, -0.16528031,  0.60117649,  0.76512594],\n       [ 1.70054355,  1.20593411,  1.34803055,  1.67538199],\n       [-1.56593588,  0.74886264, -1.35213415, -1.18542274],\n       [-0.43523146, -1.07942326,  0.37137524, -0.01509353],\n       [ 1.19800825,  0.29179116,  1.23312993,  1.41530883],\n       [-0.30959764, -0.16528031,  0.1990243 ,  0.11494305],\n       [-0.05832999,  2.12007707, -1.46703477, -1.31545932],\n       [-1.06340058,  0.29179116, -1.46703477, -1.31545932],\n       [-0.81213294,  2.3486128 , -1.29468384, -1.44549589],\n       [ 0.69547296, -0.85088752,  0.88842805,  0.89516252],\n       [-0.93776676,  1.66300559, -1.29468384, -1.18542274],\n       [-1.18903441,  0.06325543, -1.29468384, -1.31545932],\n       [ 0.19293766, -1.99356621,  0.71607711,  0.3750162 ],\n       [ 0.31857148, -1.07942326,  1.06077899,  0.24497963],\n       [ 0.82110678, -0.62235179,  0.48627586,  0.3750162 ],\n       [-0.81213294,  0.97739838, -1.29468384, -1.31545932],\n       [-0.18396381, -0.62235179,  0.42882555,  0.11494305],\n       [-0.56086529,  1.43446985, -1.29468384, -1.31545932],\n       [-1.81720353, -0.16528031, -1.40958446, -1.31545932],\n       [-1.44030206,  0.29179116, -1.40958446, -1.31545932],\n       [-1.6915697 , -1.76503047, -1.40958446, -1.18542274],\n       [-0.43523146,  2.57714854, -1.35213415, -1.31545932],\n       [-0.56086529,  0.74886264, -1.17978321, -1.31545932],\n       [-1.31466823,  0.06325543, -1.23723352, -1.31545932],\n       [-0.30959764, -0.85088752,  0.25647461,  0.11494305],\n       [-0.18396381, -0.16528031,  0.25647461, -0.01509353],\n       [ 0.9467406 , -0.39381605,  0.48627586,  0.11494305],\n       [ 2.20307885, -0.16528031,  1.63528212,  1.15523567],\n       [-0.05832999, -0.85088752,  0.77352743,  0.89516252],\n       [-0.18396381, -0.39381605,  0.25647461,  0.11494305],\n       [ 0.31857148, -0.16528031,  0.6586268 ,  0.76512594],\n       [-1.18903441,  1.20593411, -1.35213415, -1.44549589],\n       [-1.18903441, -0.16528031, -1.35213415, -1.31545932],\n       [ 1.07237443,  0.5203269 ,  1.1182293 ,  1.67538199],\n       [-0.05832999, -1.07942326,  0.14157399, -0.01509353],\n       [ 0.82110678,  0.29179116,  0.77352743,  1.0251991 ],\n       [-0.05832999, -0.85088752,  0.1990243 , -0.27516669],\n       [ 0.56983913, -1.76503047,  0.37137524,  0.11494305],\n       [ 1.32364208,  0.06325543,  0.77352743,  1.41530883],\n       [ 0.56983913,  0.5203269 ,  0.54372617,  0.50505278],\n       [ 0.82110678, -0.16528031,  1.17567962,  1.28527225],\n       [-1.31466823,  0.74886264, -1.06488258, -1.31545932],\n       [ 0.69547296, -0.62235179,  1.06077899,  1.15523567],\n       [-1.81720353, -0.39381605, -1.35213415, -1.31545932],\n       [-1.18903441, -1.53649474, -0.2605782 , -0.27516669],\n       [ 0.69547296,  0.29179116,  0.42882555,  0.3750162 ],\n       [-0.56086529, -0.16528031,  0.42882555,  0.3750162 ],\n       [ 0.44420531, -1.99356621,  0.42882555,  0.3750162 ],\n       [-0.05832999, -0.62235179,  0.77352743,  1.54534541],\n       [ 0.56983913,  0.5203269 ,  1.29058024,  1.67538199],\n       [-0.93776676,  1.66300559, -1.23723352, -1.31545932],\n       [-1.06340058,  0.97739838, -1.23723352, -0.795313  ],\n       [-0.18396381,  3.03422002, -1.29468384, -1.05538616],\n       [ 0.44420531, -0.39381605,  0.31392492,  0.11494305],\n       [-0.56086529,  1.89154133, -1.40958446, -1.05538616],\n       [ 0.06730383, -0.16528031,  0.77352743,  0.76512594],\n       [-0.30959764, -0.16528031,  0.42882555,  0.3750162 ],\n       [ 0.44420531, -0.62235179,  0.60117649,  0.76512594],\n       [-0.93776676,  0.74886264, -1.29468384, -1.31545932],\n       [ 0.69547296,  0.29179116,  0.88842805,  1.41530883],\n       [ 1.32364208,  0.06325543,  0.6586268 ,  0.3750162 ],\n       [ 1.70054355,  0.29179116,  1.29058024,  0.76512594],\n       [-0.30959764, -0.39381605, -0.08822727,  0.11494305],\n       [ 0.31857148, -0.39381605,  0.54372617,  0.24497963],\n       [ 1.32364208,  0.06325543,  0.94587836,  1.15523567],\n       [-1.81720353,  0.29179116, -1.40958446, -1.31545932],\n       [ 0.56983913, -0.62235179,  0.77352743,  0.3750162 ],\n       [ 0.69547296, -0.62235179,  1.06077899,  1.28527225],\n       [-1.06340058, -0.16528031, -1.23723352, -1.31545932],\n       [ 0.31857148, -0.62235179,  0.14157399,  0.11494305],\n       [-0.93776676, -1.307959  , -0.43292914, -0.14513011],\n       [-1.56593588,  1.20593411, -1.5819354 , -1.31545932],\n       [ 1.07237443, -1.307959  ,  1.17567962,  0.76512594],\n       [ 1.19800825, -0.62235179,  0.60117649,  0.24497963],\n       [ 0.31857148, -0.62235179,  0.54372617, -0.01509353],\n       [-0.56086529,  0.74886264, -1.29468384, -1.05538616],\n       [-0.43523146, -1.53649474, -0.03077695, -0.27516669],\n       [-0.05832999, -0.85088752,  0.08412367, -0.01509353],\n       [ 1.19800825, -0.16528031,  1.00332868,  1.15523567],\n       [-1.06340058,  0.74886264, -1.29468384, -1.31545932],\n       [-0.68649911,  1.43446985, -1.29468384, -1.31545932],\n       [-0.93776676,  1.43446985, -1.29468384, -1.05538616],\n       [ 0.19293766, -1.99356621,  0.14157399, -0.27516669],\n       [-1.56593588,  0.06325543, -1.29468384, -1.31545932],\n       [-0.18396381, -0.62235179,  0.1990243 ,  0.11494305],\n       [-1.18903441, -1.307959  ,  0.42882555,  0.63508936],\n       [ 0.56983913,  0.74886264,  1.06077899,  1.54534541],\n       [-0.81213294, -0.85088752,  0.08412367,  0.24497963]])"
     },
     "execution_count": 88,
     "metadata": {},
     "output_type": "execute_result"
    }
   ],
   "source": [
    "iris_X_train"
   ],
   "metadata": {
    "collapsed": false,
    "ExecuteTime": {
     "end_time": "2024-03-06T11:40:18.215600Z",
     "start_time": "2024-03-06T11:40:18.152714500Z"
    }
   },
   "id": "55c5405721104df2",
   "execution_count": 88
  },
  {
   "cell_type": "code",
   "outputs": [],
   "source": [],
   "metadata": {
    "collapsed": false,
    "ExecuteTime": {
     "end_time": "2024-03-06T11:40:18.240035300Z",
     "start_time": "2024-03-06T11:40:18.198564200Z"
    }
   },
   "id": "ee6aa13f4661c0c8",
   "execution_count": 88
  },
  {
   "cell_type": "code",
   "outputs": [],
   "source": [
    "# 모델"
   ],
   "metadata": {
    "collapsed": false,
    "ExecuteTime": {
     "end_time": "2024-03-06T11:40:18.284189900Z",
     "start_time": "2024-03-06T11:40:18.244501600Z"
    }
   },
   "id": "5e605e9dde0e15e3",
   "execution_count": 89
  },
  {
   "cell_type": "code",
   "outputs": [],
   "source": [
    "from sklearn.svm import SVC\n",
    "from sklearn.metrics import accuracy_score\n",
    "from sklearn import svm\n",
    "from sklearn.calibration import CalibratedClassifierCV"
   ],
   "metadata": {
    "collapsed": false,
    "ExecuteTime": {
     "end_time": "2024-03-06T11:40:18.316877900Z",
     "start_time": "2024-03-06T11:40:18.268815300Z"
    }
   },
   "id": "526713ff368120e3",
   "execution_count": 90
  },
  {
   "cell_type": "code",
   "outputs": [
    {
     "name": "stdout",
     "output_type": "stream",
     "text": [
      "각 클래스에 속할 확률:\n",
      "C=0.001 \n",
      " [train_Score]: 0.6071428571428571\n",
      " [test_Score]: 0.5789473684210527\n",
      "각 클래스에 속할 확률:\n",
      "C=0.01 \n",
      " [train_Score]: 0.9375\n",
      " [test_Score]: 0.8947368421052632\n",
      "각 클래스에 속할 확률:\n",
      "C=0.1 \n",
      " [train_Score]: 0.9642857142857143\n",
      " [test_Score]: 0.9473684210526315\n",
      "각 클래스에 속할 확률:\n",
      "C=1 \n",
      " [train_Score]: 1.0\n",
      " [test_Score]: 0.9473684210526315\n",
      "각 클래스에 속할 확률:\n",
      "C=10 \n",
      " [train_Score]: 0.9910714285714286\n",
      " [test_Score]: 0.9210526315789473\n",
      "각 클래스에 속할 확률:\n",
      "C=100 \n",
      " [train_Score]: 1.0\n",
      " [test_Score]: 0.9210526315789473\n",
      "각 클래스에 속할 확률:\n",
      "C=1000 \n",
      " [train_Score]: 1.0\n",
      " [test_Score]: 0.9210526315789473\n",
      "0.9473684210526315\n"
     ]
    },
    {
     "name": "stderr",
     "output_type": "stream",
     "text": [
      "C:\\Users\\desktop\\anaconda3\\envs\\EXAM_ML\\lib\\site-packages\\sklearn\\base.py:464: UserWarning: X does not have valid feature names, but SVC was fitted with feature names\n",
      "  warnings.warn(\n",
      "C:\\Users\\desktop\\anaconda3\\envs\\EXAM_ML\\lib\\site-packages\\sklearn\\base.py:464: UserWarning: X does not have valid feature names, but SVC was fitted with feature names\n",
      "  warnings.warn(\n",
      "C:\\Users\\desktop\\anaconda3\\envs\\EXAM_ML\\lib\\site-packages\\sklearn\\base.py:464: UserWarning: X does not have valid feature names, but SVC was fitted with feature names\n",
      "  warnings.warn(\n",
      "C:\\Users\\desktop\\anaconda3\\envs\\EXAM_ML\\lib\\site-packages\\sklearn\\base.py:464: UserWarning: X does not have valid feature names, but SVC was fitted with feature names\n",
      "  warnings.warn(\n",
      "C:\\Users\\desktop\\anaconda3\\envs\\EXAM_ML\\lib\\site-packages\\sklearn\\base.py:464: UserWarning: X does not have valid feature names, but SVC was fitted with feature names\n",
      "  warnings.warn(\n",
      "C:\\Users\\desktop\\anaconda3\\envs\\EXAM_ML\\lib\\site-packages\\sklearn\\base.py:464: UserWarning: X does not have valid feature names, but SVC was fitted with feature names\n",
      "  warnings.warn(\n",
      "C:\\Users\\desktop\\anaconda3\\envs\\EXAM_ML\\lib\\site-packages\\sklearn\\base.py:464: UserWarning: X does not have valid feature names, but SVC was fitted with feature names\n",
      "  warnings.warn(\n"
     ]
    }
   ],
   "source": [
    "data = irisDF\n",
    "X,y = targetSR,featureDF\n",
    "C_list = [0.001,0.01,0.1,1,10,100,1000]\n",
    "score_list =[]\n",
    "for i in C_list:\n",
    "      clf=svm.SVC(kernel='linear',C=i,random_state=101,probability=True)\n",
    "      clf.fit(X_train,y_train)\n",
    "      calibrated_svc = CalibratedClassifierCV(estimator=clf, method='sigmoid', cv='prefit')\n",
    "      calibrated_svc.fit(iris_X_train, y_train)\n",
    "      #probabilities = calibrated_svc.predict_proba(iris_X_train)\n",
    "      #probabilities_list.extend(list(probabilities))\n",
    "      print(\"각 클래스에 속할 확률:\")\n",
    "      #print(probabilities)\n",
    "      print(f'C={i} \\n [train_Score]: {clf.score(X_train,y_train)}\\n [test_Score]: {clf.score(X_test,y_test)}')\n",
    "      score_list.append(clf.score(X_test,y_test))\n",
    "      \n",
    "      \n",
    "print(max(score_list))\n"
   ],
   "metadata": {
    "collapsed": false,
    "ExecuteTime": {
     "end_time": "2024-03-06T11:40:18.438316900Z",
     "start_time": "2024-03-06T11:40:18.296496700Z"
    }
   },
   "id": "99ca0c2d43c43017",
   "execution_count": 91
  },
  {
   "cell_type": "code",
   "outputs": [
    {
     "data": {
      "text/plain": "array([[4.5, 2.3, 1.3, 0.3],\n       [4.8, 3.4, 1.9, 0.2],\n       [6.3, 2.5, 4.9, 1.5],\n       [5.4, 3. , 4.5, 1.5],\n       [5.1, 2.5, 3. , 1.1],\n       [6. , 2.2, 5. , 1.5],\n       [6.2, 2.8, 4.8, 1.8],\n       [6.3, 2.8, 5.1, 1.5],\n       [4.9, 2.5, 4.5, 1.7]])"
     },
     "execution_count": 92,
     "metadata": {},
     "output_type": "execute_result"
    }
   ],
   "source": [
    "support_vactors = clf.support_vectors_\n",
    "support_vactors"
   ],
   "metadata": {
    "collapsed": false,
    "ExecuteTime": {
     "end_time": "2024-03-06T11:40:18.439314300Z",
     "start_time": "2024-03-06T11:40:18.416390700Z"
    }
   },
   "id": "8e43def2e9676601",
   "execution_count": 92
  },
  {
   "cell_type": "code",
   "outputs": [],
   "source": [
    "y_pred = clf.predict(X_test)"
   ],
   "metadata": {
    "collapsed": false,
    "ExecuteTime": {
     "end_time": "2024-03-06T11:40:18.517319300Z",
     "start_time": "2024-03-06T11:40:18.431415900Z"
    }
   },
   "id": "447e1b1ee1ce1c52",
   "execution_count": 93
  },
  {
   "cell_type": "code",
   "outputs": [],
   "source": [
    "train_Score = clf.score(X_train,y_train)\n",
    "test_Score = clf.score(X_test,y_test)"
   ],
   "metadata": {
    "collapsed": false,
    "ExecuteTime": {
     "end_time": "2024-03-06T11:40:18.519242800Z",
     "start_time": "2024-03-06T11:40:18.446292100Z"
    }
   },
   "id": "d1086eee1a0213fb",
   "execution_count": 94
  },
  {
   "cell_type": "code",
   "outputs": [
    {
     "name": "stdout",
     "output_type": "stream",
     "text": [
      "[train_Score] : 1.0\n",
      "[test_Score] : 0.9210526315789473\n"
     ]
    }
   ],
   "source": [
    "print(f'[train_Score] : {train_Score}'\n",
    "      f'\\n[test_Score] : {test_Score}')"
   ],
   "metadata": {
    "collapsed": false,
    "ExecuteTime": {
     "end_time": "2024-03-06T11:40:18.554195200Z",
     "start_time": "2024-03-06T11:40:18.460245100Z"
    }
   },
   "id": "fdfa6e6303dd911a",
   "execution_count": 95
  },
  {
   "cell_type": "code",
   "outputs": [
    {
     "name": "stdout",
     "output_type": "stream",
     "text": [
      "Accuracy: 0.9210526315789473\n"
     ]
    }
   ],
   "source": [
    "accuracy = accuracy_score(y_test,y_pred)\n",
    "print(\"Accuracy:\",accuracy)"
   ],
   "metadata": {
    "collapsed": false,
    "ExecuteTime": {
     "end_time": "2024-03-06T11:40:18.580069300Z",
     "start_time": "2024-03-06T11:40:18.500307200Z"
    }
   },
   "id": "a3e427662fc7ecc",
   "execution_count": 96
  },
  {
   "cell_type": "markdown",
   "source": [
    "## pipeline(StandardScaler + SVC)"
   ],
   "metadata": {
    "collapsed": false
   },
   "id": "160c54197b83fa71"
  },
  {
   "cell_type": "code",
   "outputs": [],
   "source": [
    "from sklearn.pipeline import Pipeline\n",
    "from sklearn.preprocessing import StandardScaler\n",
    "from sklearn.svm import SVC"
   ],
   "metadata": {
    "collapsed": false,
    "ExecuteTime": {
     "end_time": "2024-03-06T11:40:18.603036400Z",
     "start_time": "2024-03-06T11:40:18.566122800Z"
    }
   },
   "id": "a0b9137dd08d7bca",
   "execution_count": 97
  },
  {
   "cell_type": "code",
   "outputs": [],
   "source": [
    "pipeline = Pipeline([('scaler',StandardScaler()),('svc',SVC(kernel='linear'))])"
   ],
   "metadata": {
    "collapsed": false,
    "ExecuteTime": {
     "end_time": "2024-03-06T11:40:18.674876300Z",
     "start_time": "2024-03-06T11:40:18.607946Z"
    }
   },
   "id": "13368110df660478",
   "execution_count": 98
  },
  {
   "cell_type": "code",
   "outputs": [
    {
     "data": {
      "text/plain": "Pipeline(steps=[('scaler', StandardScaler()), ('svc', SVC(kernel='linear'))])",
      "text/html": "<style>#sk-container-id-6 {color: black;}#sk-container-id-6 pre{padding: 0;}#sk-container-id-6 div.sk-toggleable {background-color: white;}#sk-container-id-6 label.sk-toggleable__label {cursor: pointer;display: block;width: 100%;margin-bottom: 0;padding: 0.3em;box-sizing: border-box;text-align: center;}#sk-container-id-6 label.sk-toggleable__label-arrow:before {content: \"▸\";float: left;margin-right: 0.25em;color: #696969;}#sk-container-id-6 label.sk-toggleable__label-arrow:hover:before {color: black;}#sk-container-id-6 div.sk-estimator:hover label.sk-toggleable__label-arrow:before {color: black;}#sk-container-id-6 div.sk-toggleable__content {max-height: 0;max-width: 0;overflow: hidden;text-align: left;background-color: #f0f8ff;}#sk-container-id-6 div.sk-toggleable__content pre {margin: 0.2em;color: black;border-radius: 0.25em;background-color: #f0f8ff;}#sk-container-id-6 input.sk-toggleable__control:checked~div.sk-toggleable__content {max-height: 200px;max-width: 100%;overflow: auto;}#sk-container-id-6 input.sk-toggleable__control:checked~label.sk-toggleable__label-arrow:before {content: \"▾\";}#sk-container-id-6 div.sk-estimator input.sk-toggleable__control:checked~label.sk-toggleable__label {background-color: #d4ebff;}#sk-container-id-6 div.sk-label input.sk-toggleable__control:checked~label.sk-toggleable__label {background-color: #d4ebff;}#sk-container-id-6 input.sk-hidden--visually {border: 0;clip: rect(1px 1px 1px 1px);clip: rect(1px, 1px, 1px, 1px);height: 1px;margin: -1px;overflow: hidden;padding: 0;position: absolute;width: 1px;}#sk-container-id-6 div.sk-estimator {font-family: monospace;background-color: #f0f8ff;border: 1px dotted black;border-radius: 0.25em;box-sizing: border-box;margin-bottom: 0.5em;}#sk-container-id-6 div.sk-estimator:hover {background-color: #d4ebff;}#sk-container-id-6 div.sk-parallel-item::after {content: \"\";width: 100%;border-bottom: 1px solid gray;flex-grow: 1;}#sk-container-id-6 div.sk-label:hover label.sk-toggleable__label {background-color: #d4ebff;}#sk-container-id-6 div.sk-serial::before {content: \"\";position: absolute;border-left: 1px solid gray;box-sizing: border-box;top: 0;bottom: 0;left: 50%;z-index: 0;}#sk-container-id-6 div.sk-serial {display: flex;flex-direction: column;align-items: center;background-color: white;padding-right: 0.2em;padding-left: 0.2em;position: relative;}#sk-container-id-6 div.sk-item {position: relative;z-index: 1;}#sk-container-id-6 div.sk-parallel {display: flex;align-items: stretch;justify-content: center;background-color: white;position: relative;}#sk-container-id-6 div.sk-item::before, #sk-container-id-6 div.sk-parallel-item::before {content: \"\";position: absolute;border-left: 1px solid gray;box-sizing: border-box;top: 0;bottom: 0;left: 50%;z-index: -1;}#sk-container-id-6 div.sk-parallel-item {display: flex;flex-direction: column;z-index: 1;position: relative;background-color: white;}#sk-container-id-6 div.sk-parallel-item:first-child::after {align-self: flex-end;width: 50%;}#sk-container-id-6 div.sk-parallel-item:last-child::after {align-self: flex-start;width: 50%;}#sk-container-id-6 div.sk-parallel-item:only-child::after {width: 0;}#sk-container-id-6 div.sk-dashed-wrapped {border: 1px dashed gray;margin: 0 0.4em 0.5em 0.4em;box-sizing: border-box;padding-bottom: 0.4em;background-color: white;}#sk-container-id-6 div.sk-label label {font-family: monospace;font-weight: bold;display: inline-block;line-height: 1.2em;}#sk-container-id-6 div.sk-label-container {text-align: center;}#sk-container-id-6 div.sk-container {/* jupyter's `normalize.less` sets `[hidden] { display: none; }` but bootstrap.min.css set `[hidden] { display: none !important; }` so we also need the `!important` here to be able to override the default hidden behavior on the sphinx rendered scikit-learn.org. See: https://github.com/scikit-learn/scikit-learn/issues/21755 */display: inline-block !important;position: relative;}#sk-container-id-6 div.sk-text-repr-fallback {display: none;}</style><div id=\"sk-container-id-6\" class=\"sk-top-container\"><div class=\"sk-text-repr-fallback\"><pre>Pipeline(steps=[(&#x27;scaler&#x27;, StandardScaler()), (&#x27;svc&#x27;, SVC(kernel=&#x27;linear&#x27;))])</pre><b>In a Jupyter environment, please rerun this cell to show the HTML representation or trust the notebook. <br />On GitHub, the HTML representation is unable to render, please try loading this page with nbviewer.org.</b></div><div class=\"sk-container\" hidden><div class=\"sk-item sk-dashed-wrapped\"><div class=\"sk-label-container\"><div class=\"sk-label sk-toggleable\"><input class=\"sk-toggleable__control sk-hidden--visually\" id=\"sk-estimator-id-10\" type=\"checkbox\" ><label for=\"sk-estimator-id-10\" class=\"sk-toggleable__label sk-toggleable__label-arrow\">Pipeline</label><div class=\"sk-toggleable__content\"><pre>Pipeline(steps=[(&#x27;scaler&#x27;, StandardScaler()), (&#x27;svc&#x27;, SVC(kernel=&#x27;linear&#x27;))])</pre></div></div></div><div class=\"sk-serial\"><div class=\"sk-item\"><div class=\"sk-estimator sk-toggleable\"><input class=\"sk-toggleable__control sk-hidden--visually\" id=\"sk-estimator-id-11\" type=\"checkbox\" ><label for=\"sk-estimator-id-11\" class=\"sk-toggleable__label sk-toggleable__label-arrow\">StandardScaler</label><div class=\"sk-toggleable__content\"><pre>StandardScaler()</pre></div></div></div><div class=\"sk-item\"><div class=\"sk-estimator sk-toggleable\"><input class=\"sk-toggleable__control sk-hidden--visually\" id=\"sk-estimator-id-12\" type=\"checkbox\" ><label for=\"sk-estimator-id-12\" class=\"sk-toggleable__label sk-toggleable__label-arrow\">SVC</label><div class=\"sk-toggleable__content\"><pre>SVC(kernel=&#x27;linear&#x27;)</pre></div></div></div></div></div></div></div>"
     },
     "execution_count": 99,
     "metadata": {},
     "output_type": "execute_result"
    }
   ],
   "source": [
    "pipeline.fit(X_train,y_train)"
   ],
   "metadata": {
    "collapsed": false,
    "ExecuteTime": {
     "end_time": "2024-03-06T11:40:18.731817200Z",
     "start_time": "2024-03-06T11:40:18.659787600Z"
    }
   },
   "id": "895b100db120ce83",
   "execution_count": 99
  },
  {
   "cell_type": "code",
   "outputs": [],
   "source": [
    "accuracy= pipeline.score(X_test,y_test)"
   ],
   "metadata": {
    "collapsed": false,
    "ExecuteTime": {
     "end_time": "2024-03-06T11:40:18.766703400Z",
     "start_time": "2024-03-06T11:40:18.709679700Z"
    }
   },
   "id": "cafbef636d4df869",
   "execution_count": 100
  },
  {
   "cell_type": "code",
   "outputs": [],
   "source": [
    "train_Score = pipeline.score(X_train,y_train)"
   ],
   "metadata": {
    "collapsed": false,
    "ExecuteTime": {
     "end_time": "2024-03-06T11:40:18.795644Z",
     "start_time": "2024-03-06T11:40:18.741786400Z"
    }
   },
   "id": "3055ebd6767828b3",
   "execution_count": 101
  },
  {
   "cell_type": "code",
   "outputs": [],
   "source": [
    "test_Score = pipeline.score(X_test,y_test)"
   ],
   "metadata": {
    "collapsed": false,
    "ExecuteTime": {
     "end_time": "2024-03-06T11:40:18.860859500Z",
     "start_time": "2024-03-06T11:40:18.781653100Z"
    }
   },
   "id": "7a58f54ee47dd77c",
   "execution_count": 102
  },
  {
   "cell_type": "code",
   "outputs": [
    {
     "name": "stdout",
     "output_type": "stream",
     "text": [
      "[pipeline train_Score]: 0.9821428571428571\n",
      "[pipeline test_Score]: 0.9473684210526315\n",
      "[pipeline accuracy]: 0.9473684210526315\n"
     ]
    }
   ],
   "source": [
    "print(f'[pipeline train_Score]: {train_Score}\\n[pipeline test_Score]: {test_Score}\\n[pipeline accuracy]: {accuracy}')"
   ],
   "metadata": {
    "collapsed": false,
    "ExecuteTime": {
     "end_time": "2024-03-06T11:40:18.889045600Z",
     "start_time": "2024-03-06T11:40:18.806710600Z"
    }
   },
   "id": "54b8ed457e1399ed",
   "execution_count": 103
  },
  {
   "cell_type": "code",
   "outputs": [
    {
     "data": {
      "text/plain": "<Figure size 640x480 with 1 Axes>",
      "image/png": "[encoded data removed]"
     },
     "metadata": {},
     "output_type": "display_data"
    }
   ],
   "source": [
    "import matplotlib.pyplot as plt\n",
    "df=pd.read_csv('iris.csv')\n",
    "df=df.iloc[:100]\n",
    "feature=df[df.columns[2:4]]\n",
    "target=df[df.columns[-1]]\n",
    "target.replace({\"Setosa\":0, \"Versicolor\":1}, inplace=True) # setosa VS versicolor+virginica\n",
    "\n",
    "clf = SVC(kernel=\"linear\", C=1)       # => 이 부분만 달라짐, 나머지는 고정\n",
    "clf.fit(feature, target)\n",
    "\n",
    "w = clf.coef_[0] # 가중치값 구하기\n",
    "a = -w[0] / w[1] # 기울기값 구하기\n",
    "xx = np.linspace(feature[feature.columns[0]].min(),feature[feature.columns[0]].max()) # x 정의역 설정 \n",
    "yy = a * xx - (clf.intercept_[0]) / w[1] # 결정 경계 완성!\n",
    "\n",
    "# 수학적으로 결정 경계(seperating hyperplane) 주변의 서포트 벡터들은\n",
    "# 거리가 np.sqrt(1 + a**2)만큼 떨어져 있음 \n",
    "margin = 1 / np.sqrt(np.sum(clf.coef_**2)) # 입실론 설정 = 1/||w|| = 1/가중치 벡터의 놈(norm)\n",
    "yy_down = yy - np.sqrt(1 + a**2) * margin # 아래 직선\n",
    "yy_up = yy + np.sqrt(1 + a**2) * margin # 위 직선\n",
    "\n",
    "plt.plot(xx, yy, \"k-\") # 결정 경계 그리기\n",
    "plt.plot(xx, yy_down, \"k--\") # 주변 서포트 벡터1\n",
    "plt.plot(xx, yy_up, \"k--\") # 주변 서포트 벡터2\n",
    "\n",
    "# 데이터 점들 찍기\n",
    "plt.scatter(feature[\"petal.length\"].values,feature[\"petal.width\"].values, c=target.values)\n",
    "# 서포트 벡터 머신 표시\n",
    "plt.scatter(clf.support_vectors_[:, 0],clf.support_vectors_[:, 1],color=\"green\")\n",
    "#plt.ylim(feature[feature.columns[1]].min()-0.5,feature[feature.columns[1]].max()+0.3)\n",
    "plt.show()"
   ],
   "metadata": {
    "collapsed": false,
    "ExecuteTime": {
     "end_time": "2024-03-06T11:44:25.142020400Z",
     "start_time": "2024-03-06T11:44:25.023881200Z"
    }
   },
   "id": "562704c042631d91",
   "execution_count": 112
  },
  {
   "cell_type": "code",
   "outputs": [],
   "source": [],
   "metadata": {
    "collapsed": false,
    "ExecuteTime": {
     "end_time": "2024-03-06T11:40:19.310861500Z",
     "start_time": "2024-03-06T11:40:19.196242100Z"
    }
   },
   "id": "6fb5dc9a55c84290",
   "execution_count": 108
  }
 ],
 "metadata": {
  "kernelspec": {
   "display_name": "Python 3",
   "language": "python",
   "name": "python3"
  },
  "language_info": {
   "codemirror_mode": {
    "name": "ipython",
    "version": 2
   },
   "file_extension": ".py",
   "mimetype": "text/x-python",
   "name": "python",
   "nbconvert_exporter": "python",
   "pygments_lexer": "ipython2",
   "version": "2.7.6"
  }
 },
 "nbformat": 4,
 "nbformat_minor": 5
}
