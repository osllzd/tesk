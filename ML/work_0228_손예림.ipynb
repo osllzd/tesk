{
 "cells": [
  {
   "cell_type": "markdown",
   "source": [
    "## 목표 : 연비 모델 예측\n",
    "- 데이터 : mpg.csv\n",
    "- 피쳐: weight와 horsepower\n",
    "- 타겟 : mpg\n",
    "- 학습 유형 : 지도학습\n"
   ],
   "metadata": {
    "collapsed": false
   },
   "id": "5822708bc44e230a"
  },
  {
   "cell_type": "markdown",
   "source": [
    "(1) 모듈 로딩 <hr>"
   ],
   "metadata": {
    "collapsed": false
   },
   "id": "85b87b4e38237bb8"
  },
  {
   "cell_type": "code",
   "outputs": [],
   "source": [
    "import pandas as pd\n",
    "import numpy as np\n",
    "import matplotlib.pyplot as plt\n",
    "from sklearn.model_selection import train_test_split\n",
    "from sklearn.linear_model import LinearRegression\n",
    "from sklearn.preprocessing import StandardScaler,MinMaxScaler,RobustScaler"
   ],
   "metadata": {
    "collapsed": false,
    "ExecuteTime": {
     "end_time": "2024-02-28T12:17:29.021904300Z",
     "start_time": "2024-02-28T12:17:28.777442100Z"
    }
   },
   "id": "63f4bcb3e843e15f",
   "execution_count": 1557
  },
  {
   "cell_type": "markdown",
   "source": [
    "- 데이터 준비 <hr>"
   ],
   "metadata": {
    "collapsed": false
   },
   "id": "5f04f68efd8c008f"
  },
  {
   "cell_type": "code",
   "outputs": [],
   "source": [
    "\n",
    "data_file = 'mpg.csv'"
   ],
   "metadata": {
    "collapsed": false,
    "ExecuteTime": {
     "end_time": "2024-02-28T12:17:29.045253700Z",
     "start_time": "2024-02-28T12:17:29.023900100Z"
    }
   },
   "id": "2b5e6c6bfac683e6",
   "execution_count": 1558
  },
  {
   "cell_type": "code",
   "outputs": [
    {
     "data": {
      "text/plain": "      mpg  cylinders  displacement horsepower  weight  acceleration  \\\n0    18.0          8         307.0        130    3504          12.0   \n1    15.0          8         350.0        165    3693          11.5   \n2    18.0          8         318.0        150    3436          11.0   \n3    16.0          8         304.0        150    3433          12.0   \n4    17.0          8         302.0        140    3449          10.5   \n..    ...        ...           ...        ...     ...           ...   \n393  27.0          4         140.0         86    2790          15.6   \n394  44.0          4          97.0         52    2130          24.6   \n395  32.0          4         135.0         84    2295          11.6   \n396  28.0          4         120.0         79    2625          18.6   \n397  31.0          4         119.0         82    2720          19.4   \n\n     model year  origin                   car name  \n0            70       1  chevrolet chevelle malibu  \n1            70       1          buick skylark 320  \n2            70       1         plymouth satellite  \n3            70       1              amc rebel sst  \n4            70       1                ford torino  \n..          ...     ...                        ...  \n393          82       1            ford mustang gl  \n394          82       2                  vw pickup  \n395          82       1              dodge rampage  \n396          82       1                ford ranger  \n397          82       1                 chevy s-10  \n\n[398 rows x 9 columns]",
      "text/html": "<div>\n<style scoped>\n    .dataframe tbody tr th:only-of-type {\n        vertical-align: middle;\n    }\n\n    .dataframe tbody tr th {\n        vertical-align: top;\n    }\n\n    .dataframe thead th {\n        text-align: right;\n    }\n</style>\n<table border=\"1\" class=\"dataframe\">\n  <thead>\n    <tr style=\"text-align: right;\">\n      <th></th>\n      <th>mpg</th>\n      <th>cylinders</th>\n      <th>displacement</th>\n      <th>horsepower</th>\n      <th>weight</th>\n      <th>acceleration</th>\n      <th>model year</th>\n      <th>origin</th>\n      <th>car name</th>\n    </tr>\n  </thead>\n  <tbody>\n    <tr>\n      <th>0</th>\n      <td>18.0</td>\n      <td>8</td>\n      <td>307.0</td>\n      <td>130</td>\n      <td>3504</td>\n      <td>12.0</td>\n      <td>70</td>\n      <td>1</td>\n      <td>chevrolet chevelle malibu</td>\n    </tr>\n    <tr>\n      <th>1</th>\n      <td>15.0</td>\n      <td>8</td>\n      <td>350.0</td>\n      <td>165</td>\n      <td>3693</td>\n      <td>11.5</td>\n      <td>70</td>\n      <td>1</td>\n      <td>buick skylark 320</td>\n    </tr>\n    <tr>\n      <th>2</th>\n      <td>18.0</td>\n      <td>8</td>\n      <td>318.0</td>\n      <td>150</td>\n      <td>3436</td>\n      <td>11.0</td>\n      <td>70</td>\n      <td>1</td>\n      <td>plymouth satellite</td>\n    </tr>\n    <tr>\n      <th>3</th>\n      <td>16.0</td>\n      <td>8</td>\n      <td>304.0</td>\n      <td>150</td>\n      <td>3433</td>\n      <td>12.0</td>\n      <td>70</td>\n      <td>1</td>\n      <td>amc rebel sst</td>\n    </tr>\n    <tr>\n      <th>4</th>\n      <td>17.0</td>\n      <td>8</td>\n      <td>302.0</td>\n      <td>140</td>\n      <td>3449</td>\n      <td>10.5</td>\n      <td>70</td>\n      <td>1</td>\n      <td>ford torino</td>\n    </tr>\n    <tr>\n      <th>...</th>\n      <td>...</td>\n      <td>...</td>\n      <td>...</td>\n      <td>...</td>\n      <td>...</td>\n      <td>...</td>\n      <td>...</td>\n      <td>...</td>\n      <td>...</td>\n    </tr>\n    <tr>\n      <th>393</th>\n      <td>27.0</td>\n      <td>4</td>\n      <td>140.0</td>\n      <td>86</td>\n      <td>2790</td>\n      <td>15.6</td>\n      <td>82</td>\n      <td>1</td>\n      <td>ford mustang gl</td>\n    </tr>\n    <tr>\n      <th>394</th>\n      <td>44.0</td>\n      <td>4</td>\n      <td>97.0</td>\n      <td>52</td>\n      <td>2130</td>\n      <td>24.6</td>\n      <td>82</td>\n      <td>2</td>\n      <td>vw pickup</td>\n    </tr>\n    <tr>\n      <th>395</th>\n      <td>32.0</td>\n      <td>4</td>\n      <td>135.0</td>\n      <td>84</td>\n      <td>2295</td>\n      <td>11.6</td>\n      <td>82</td>\n      <td>1</td>\n      <td>dodge rampage</td>\n    </tr>\n    <tr>\n      <th>396</th>\n      <td>28.0</td>\n      <td>4</td>\n      <td>120.0</td>\n      <td>79</td>\n      <td>2625</td>\n      <td>18.6</td>\n      <td>82</td>\n      <td>1</td>\n      <td>ford ranger</td>\n    </tr>\n    <tr>\n      <th>397</th>\n      <td>31.0</td>\n      <td>4</td>\n      <td>119.0</td>\n      <td>82</td>\n      <td>2720</td>\n      <td>19.4</td>\n      <td>82</td>\n      <td>1</td>\n      <td>chevy s-10</td>\n    </tr>\n  </tbody>\n</table>\n<p>398 rows × 9 columns</p>\n</div>"
     },
     "execution_count": 1559,
     "metadata": {},
     "output_type": "execute_result"
    }
   ],
   "source": [
    "dataDF=pd.read_csv(data_file)\n",
    "dataDF"
   ],
   "metadata": {
    "collapsed": false,
    "ExecuteTime": {
     "end_time": "2024-02-28T12:17:29.104718400Z",
     "start_time": "2024-02-28T12:17:29.045253700Z"
    }
   },
   "id": "77be94e2db8ac043",
   "execution_count": 1559
  },
  {
   "cell_type": "markdown",
   "source": [
    "(2) 데이터 전처리 <hr>"
   ],
   "metadata": {
    "collapsed": false
   },
   "id": "e88456f625bc3679"
  },
  {
   "cell_type": "code",
   "outputs": [
    {
     "name": "stdout",
     "output_type": "stream",
     "text": [
      "<class 'pandas.core.frame.DataFrame'>\n",
      "RangeIndex: 398 entries, 0 to 397\n",
      "Data columns (total 9 columns):\n",
      " #   Column        Non-Null Count  Dtype  \n",
      "---  ------        --------------  -----  \n",
      " 0   mpg           398 non-null    float64\n",
      " 1   cylinders     398 non-null    int64  \n",
      " 2   displacement  398 non-null    float64\n",
      " 3   horsepower    398 non-null    object \n",
      " 4   weight        398 non-null    int64  \n",
      " 5   acceleration  398 non-null    float64\n",
      " 6   model year    398 non-null    int64  \n",
      " 7   origin        398 non-null    int64  \n",
      " 8   car name      398 non-null    object \n",
      "dtypes: float64(3), int64(4), object(2)\n",
      "memory usage: 28.1+ KB\n"
     ]
    }
   ],
   "source": [
    "dataDF.info()\n",
    "# horse power가 ? 때문에 object로 뜸\n",
    "# 전처리를 해야함 !!"
   ],
   "metadata": {
    "collapsed": false,
    "ExecuteTime": {
     "end_time": "2024-02-28T12:17:29.140774900Z",
     "start_time": "2024-02-28T12:17:29.095965100Z"
    }
   },
   "id": "1a494c968e61415a",
   "execution_count": 1560
  },
  {
   "cell_type": "code",
   "outputs": [
    {
     "data": {
      "text/plain": "array(['130', '165', '150', '140', '198', '220', '215', '225', '190',\n       '170', '160', '95', '97', '85', '88', '46', '87', '90', '113',\n       '200', '210', '193', '?', '100', '105', '175', '153', '180', '110',\n       '72', '86', '70', '76', '65', '69', '60', '80', '54', '208', '155',\n       '112', '92', '145', '137', '158', '167', '94', '107', '230', '49',\n       '75', '91', '122', '67', '83', '78', '52', '61', '93', '148',\n       '129', '96', '71', '98', '115', '53', '81', '79', '120', '152',\n       '102', '108', '68', '58', '149', '89', '63', '48', '66', '139',\n       '103', '125', '133', '138', '135', '142', '77', '62', '132', '84',\n       '64', '74', '116', '82'], dtype=object)"
     },
     "execution_count": 1561,
     "metadata": {},
     "output_type": "execute_result"
    }
   ],
   "source": [
    "dataDF.horsepower.unique()"
   ],
   "metadata": {
    "collapsed": false,
    "ExecuteTime": {
     "end_time": "2024-02-28T12:17:29.157760200Z",
     "start_time": "2024-02-28T12:17:29.114010900Z"
    }
   },
   "id": "dfeb527493498590",
   "execution_count": 1561
  },
  {
   "cell_type": "code",
   "outputs": [],
   "source": [
    "dataDF=dataDF[dataDF['horsepower']!='?']"
   ],
   "metadata": {
    "collapsed": false,
    "ExecuteTime": {
     "end_time": "2024-02-28T12:17:29.180982200Z",
     "start_time": "2024-02-28T12:17:29.129037200Z"
    }
   },
   "id": "e8882cd7f51fbd0e",
   "execution_count": 1562
  },
  {
   "cell_type": "code",
   "outputs": [
    {
     "data": {
      "text/plain": "array(['130', '165', '150', '140', '198', '220', '215', '225', '190',\n       '170', '160', '95', '97', '85', '88', '46', '87', '90', '113',\n       '200', '210', '193', '100', '105', '175', '153', '180', '110',\n       '72', '86', '70', '76', '65', '69', '60', '80', '54', '208', '155',\n       '112', '92', '145', '137', '158', '167', '94', '107', '230', '49',\n       '75', '91', '122', '67', '83', '78', '52', '61', '93', '148',\n       '129', '96', '71', '98', '115', '53', '81', '79', '120', '152',\n       '102', '108', '68', '58', '149', '89', '63', '48', '66', '139',\n       '103', '125', '133', '138', '135', '142', '77', '62', '132', '84',\n       '64', '74', '116', '82'], dtype=object)"
     },
     "execution_count": 1563,
     "metadata": {},
     "output_type": "execute_result"
    }
   ],
   "source": [
    "dataDF[\"horsepower\"].unique()"
   ],
   "metadata": {
    "collapsed": false,
    "ExecuteTime": {
     "end_time": "2024-02-28T12:17:29.274351800Z",
     "start_time": "2024-02-28T12:17:29.162527600Z"
    }
   },
   "id": "743ddb46a8f3839",
   "execution_count": 1563
  },
  {
   "cell_type": "code",
   "outputs": [
    {
     "name": "stderr",
     "output_type": "stream",
     "text": [
      "C:\\Users\\desktop\\AppData\\Local\\Temp\\ipykernel_8316\\633710820.py:1: SettingWithCopyWarning: \n",
      "A value is trying to be set on a copy of a slice from a DataFrame.\n",
      "Try using .loc[row_indexer,col_indexer] = value instead\n",
      "\n",
      "See the caveats in the documentation: https://pandas.pydata.org/pandas-docs/stable/user_guide/indexing.html#returning-a-view-versus-a-copy\n",
      "  dataDF[\"horsepower\"]=dataDF[\"horsepower\"].astype('float')\n"
     ]
    }
   ],
   "source": [
    "dataDF[\"horsepower\"]=dataDF[\"horsepower\"].astype('float')"
   ],
   "metadata": {
    "collapsed": false,
    "ExecuteTime": {
     "end_time": "2024-02-28T12:17:29.279332900Z",
     "start_time": "2024-02-28T12:17:29.228241400Z"
    }
   },
   "id": "f6025adcc27be8b2",
   "execution_count": 1564
  },
  {
   "cell_type": "code",
   "outputs": [
    {
     "name": "stdout",
     "output_type": "stream",
     "text": [
      "<class 'pandas.core.frame.DataFrame'>\n",
      "Index: 392 entries, 0 to 397\n",
      "Data columns (total 9 columns):\n",
      " #   Column        Non-Null Count  Dtype  \n",
      "---  ------        --------------  -----  \n",
      " 0   mpg           392 non-null    float64\n",
      " 1   cylinders     392 non-null    int64  \n",
      " 2   displacement  392 non-null    float64\n",
      " 3   horsepower    392 non-null    float64\n",
      " 4   weight        392 non-null    int64  \n",
      " 5   acceleration  392 non-null    float64\n",
      " 6   model year    392 non-null    int64  \n",
      " 7   origin        392 non-null    int64  \n",
      " 8   car name      392 non-null    object \n",
      "dtypes: float64(4), int64(4), object(1)\n",
      "memory usage: 30.6+ KB\n"
     ]
    }
   ],
   "source": [
    "dataDF.info()"
   ],
   "metadata": {
    "collapsed": false,
    "ExecuteTime": {
     "end_time": "2024-02-28T12:17:29.340251900Z",
     "start_time": "2024-02-28T12:17:29.286310500Z"
    }
   },
   "id": "ad93007edd28e00f",
   "execution_count": 1565
  },
  {
   "cell_type": "code",
   "outputs": [
    {
     "data": {
      "text/plain": "                   mpg  cylinders  displacement  horsepower    weight  \\\nmpg           1.000000  -0.777618     -0.805127   -0.778427 -0.832244   \ncylinders    -0.777618   1.000000      0.950823    0.842983  0.897527   \ndisplacement -0.805127   0.950823      1.000000    0.897257  0.932994   \nhorsepower   -0.778427   0.842983      0.897257    1.000000  0.864538   \nweight       -0.832244   0.897527      0.932994    0.864538  1.000000   \nacceleration  0.423329  -0.504683     -0.543800   -0.689196 -0.416839   \nmodel year    0.580541  -0.345647     -0.369855   -0.416361 -0.309120   \norigin        0.565209  -0.568932     -0.614535   -0.455171 -0.585005   \n\n              acceleration  model year    origin  \nmpg               0.423329    0.580541  0.565209  \ncylinders        -0.504683   -0.345647 -0.568932  \ndisplacement     -0.543800   -0.369855 -0.614535  \nhorsepower       -0.689196   -0.416361 -0.455171  \nweight           -0.416839   -0.309120 -0.585005  \nacceleration      1.000000    0.290316  0.212746  \nmodel year        0.290316    1.000000  0.181528  \norigin            0.212746    0.181528  1.000000  ",
      "text/html": "<div>\n<style scoped>\n    .dataframe tbody tr th:only-of-type {\n        vertical-align: middle;\n    }\n\n    .dataframe tbody tr th {\n        vertical-align: top;\n    }\n\n    .dataframe thead th {\n        text-align: right;\n    }\n</style>\n<table border=\"1\" class=\"dataframe\">\n  <thead>\n    <tr style=\"text-align: right;\">\n      <th></th>\n      <th>mpg</th>\n      <th>cylinders</th>\n      <th>displacement</th>\n      <th>horsepower</th>\n      <th>weight</th>\n      <th>acceleration</th>\n      <th>model year</th>\n      <th>origin</th>\n    </tr>\n  </thead>\n  <tbody>\n    <tr>\n      <th>mpg</th>\n      <td>1.000000</td>\n      <td>-0.777618</td>\n      <td>-0.805127</td>\n      <td>-0.778427</td>\n      <td>-0.832244</td>\n      <td>0.423329</td>\n      <td>0.580541</td>\n      <td>0.565209</td>\n    </tr>\n    <tr>\n      <th>cylinders</th>\n      <td>-0.777618</td>\n      <td>1.000000</td>\n      <td>0.950823</td>\n      <td>0.842983</td>\n      <td>0.897527</td>\n      <td>-0.504683</td>\n      <td>-0.345647</td>\n      <td>-0.568932</td>\n    </tr>\n    <tr>\n      <th>displacement</th>\n      <td>-0.805127</td>\n      <td>0.950823</td>\n      <td>1.000000</td>\n      <td>0.897257</td>\n      <td>0.932994</td>\n      <td>-0.543800</td>\n      <td>-0.369855</td>\n      <td>-0.614535</td>\n    </tr>\n    <tr>\n      <th>horsepower</th>\n      <td>-0.778427</td>\n      <td>0.842983</td>\n      <td>0.897257</td>\n      <td>1.000000</td>\n      <td>0.864538</td>\n      <td>-0.689196</td>\n      <td>-0.416361</td>\n      <td>-0.455171</td>\n    </tr>\n    <tr>\n      <th>weight</th>\n      <td>-0.832244</td>\n      <td>0.897527</td>\n      <td>0.932994</td>\n      <td>0.864538</td>\n      <td>1.000000</td>\n      <td>-0.416839</td>\n      <td>-0.309120</td>\n      <td>-0.585005</td>\n    </tr>\n    <tr>\n      <th>acceleration</th>\n      <td>0.423329</td>\n      <td>-0.504683</td>\n      <td>-0.543800</td>\n      <td>-0.689196</td>\n      <td>-0.416839</td>\n      <td>1.000000</td>\n      <td>0.290316</td>\n      <td>0.212746</td>\n    </tr>\n    <tr>\n      <th>model year</th>\n      <td>0.580541</td>\n      <td>-0.345647</td>\n      <td>-0.369855</td>\n      <td>-0.416361</td>\n      <td>-0.309120</td>\n      <td>0.290316</td>\n      <td>1.000000</td>\n      <td>0.181528</td>\n    </tr>\n    <tr>\n      <th>origin</th>\n      <td>0.565209</td>\n      <td>-0.568932</td>\n      <td>-0.614535</td>\n      <td>-0.455171</td>\n      <td>-0.585005</td>\n      <td>0.212746</td>\n      <td>0.181528</td>\n      <td>1.000000</td>\n    </tr>\n  </tbody>\n</table>\n</div>"
     },
     "execution_count": 1566,
     "metadata": {},
     "output_type": "execute_result"
    }
   ],
   "source": [
    "dataDF.corr(numeric_only=True)"
   ],
   "metadata": {
    "collapsed": false,
    "ExecuteTime": {
     "end_time": "2024-02-28T12:17:29.397212500Z",
     "start_time": "2024-02-28T12:17:29.310231300Z"
    }
   },
   "id": "350c3f0e8e1bc68c",
   "execution_count": 1566
  },
  {
   "cell_type": "code",
   "outputs": [],
   "source": [
    "# 결측치 처리를 한 후 상관관계를 본 결과\n",
    "# features 는 weight와 horsepower을 설정하기로 했다."
   ],
   "metadata": {
    "collapsed": false,
    "ExecuteTime": {
     "end_time": "2024-02-28T12:17:29.416148400Z",
     "start_time": "2024-02-28T12:17:29.346232900Z"
    }
   },
   "id": "b75802d87cc8e15a",
   "execution_count": 1567
  },
  {
   "cell_type": "markdown",
   "source": [
    "(3) 데이터 확인 <hr>"
   ],
   "metadata": {
    "collapsed": false
   },
   "id": "ebbbcea97e39b7b5"
  },
  {
   "cell_type": "code",
   "outputs": [],
   "source": [
    "def print_feature(nrows,ncols,target,features):\n",
    "    for idx in range(len(features)):\n",
    "        plt.subplot(nrows,ncols,idx+1)\n",
    "        plt.hist(dataDF[features[idx]])\n",
    "        \n",
    "       \n",
    "        plt.xlabel(features[idx])\n",
    "        plt.ylabel(target)\n",
    "    \n",
    "    plt.show()\n",
    "    "
   ],
   "metadata": {
    "collapsed": false,
    "ExecuteTime": {
     "end_time": "2024-02-28T12:17:29.483134100Z",
     "start_time": "2024-02-28T12:17:29.420136700Z"
    }
   },
   "id": "f5777e8802da1703",
   "execution_count": 1568
  },
  {
   "cell_type": "code",
   "outputs": [
    {
     "data": {
      "text/plain": "<Figure size 640x480 with 2 Axes>",
      "image/png": "[encoded data removed]"
     },
     "metadata": {},
     "output_type": "display_data"
    }
   ],
   "source": [
    "print_feature(2,2,'mpg',['horsepower', 'weight'])"
   ],
   "metadata": {
    "collapsed": false,
    "ExecuteTime": {
     "end_time": "2024-02-28T12:17:29.632214200Z",
     "start_time": "2024-02-28T12:17:29.449252Z"
    }
   },
   "id": "4b67bab1826d085d",
   "execution_count": 1569
  },
  {
   "cell_type": "markdown",
   "source": [
    "(4) 학습 준비 <hr>"
   ],
   "metadata": {
    "collapsed": false
   },
   "id": "20ecf9fc1f85b822"
  },
  {
   "cell_type": "markdown",
   "source": [
    "- 학습 데이터 분리 => 피쳐-타겟, 학습용 데이터셋 - 테스트용 데이터셋"
   ],
   "metadata": {
    "collapsed": false
   },
   "id": "ccbdcfa35dbc11ba"
  },
  {
   "cell_type": "code",
   "outputs": [],
   "source": [
    "from sklearn.model_selection import train_test_split\n",
    "from sklearn.preprocessing import StandardScaler, MinMaxScaler, RobustScaler"
   ],
   "metadata": {
    "collapsed": false,
    "ExecuteTime": {
     "end_time": "2024-02-28T12:17:29.665236200Z",
     "start_time": "2024-02-28T12:17:29.611250700Z"
    }
   },
   "id": "886e54f3c84133f9",
   "execution_count": 1570
  },
  {
   "cell_type": "code",
   "outputs": [
    {
     "data": {
      "text/plain": "   weight  horsepower\n0    3504       130.0\n1    3693       165.0",
      "text/html": "<div>\n<style scoped>\n    .dataframe tbody tr th:only-of-type {\n        vertical-align: middle;\n    }\n\n    .dataframe tbody tr th {\n        vertical-align: top;\n    }\n\n    .dataframe thead th {\n        text-align: right;\n    }\n</style>\n<table border=\"1\" class=\"dataframe\">\n  <thead>\n    <tr style=\"text-align: right;\">\n      <th></th>\n      <th>weight</th>\n      <th>horsepower</th>\n    </tr>\n  </thead>\n  <tbody>\n    <tr>\n      <th>0</th>\n      <td>3504</td>\n      <td>130.0</td>\n    </tr>\n    <tr>\n      <th>1</th>\n      <td>3693</td>\n      <td>165.0</td>\n    </tr>\n  </tbody>\n</table>\n</div>"
     },
     "execution_count": 1571,
     "metadata": {},
     "output_type": "execute_result"
    }
   ],
   "source": [
    "# 피쳐와 타겟 분리\n",
    "featureDF = dataDF[['weight','horsepower']]\n",
    "featureDF.head(2)"
   ],
   "metadata": {
    "collapsed": false,
    "ExecuteTime": {
     "end_time": "2024-02-28T12:17:29.670261900Z",
     "start_time": "2024-02-28T12:17:29.626199300Z"
    }
   },
   "id": "fddb6229a54bc89a",
   "execution_count": 1571
  },
  {
   "cell_type": "code",
   "outputs": [
    {
     "data": {
      "text/plain": "    mpg\n0  18.0\n1  15.0",
      "text/html": "<div>\n<style scoped>\n    .dataframe tbody tr th:only-of-type {\n        vertical-align: middle;\n    }\n\n    .dataframe tbody tr th {\n        vertical-align: top;\n    }\n\n    .dataframe thead th {\n        text-align: right;\n    }\n</style>\n<table border=\"1\" class=\"dataframe\">\n  <thead>\n    <tr style=\"text-align: right;\">\n      <th></th>\n      <th>mpg</th>\n    </tr>\n  </thead>\n  <tbody>\n    <tr>\n      <th>0</th>\n      <td>18.0</td>\n    </tr>\n    <tr>\n      <th>1</th>\n      <td>15.0</td>\n    </tr>\n  </tbody>\n</table>\n</div>"
     },
     "execution_count": 1572,
     "metadata": {},
     "output_type": "execute_result"
    }
   ],
   "source": [
    "targetDF = dataDF[['mpg']]\n",
    "targetDF.head(2)"
   ],
   "metadata": {
    "collapsed": false,
    "ExecuteTime": {
     "end_time": "2024-02-28T12:17:29.686592200Z",
     "start_time": "2024-02-28T12:17:29.644175200Z"
    }
   },
   "id": "7a37244e1ea1a057",
   "execution_count": 1572
  },
  {
   "cell_type": "code",
   "outputs": [],
   "source": [
    "# 데이터셋 준비 => 70:30\n",
    "x_train, x_test, y_train, y_test = train_test_split(featureDF, targetDF, test_size=0.3, random_state=890)"
   ],
   "metadata": {
    "collapsed": false,
    "ExecuteTime": {
     "end_time": "2024-02-28T12:17:29.716479900Z",
     "start_time": "2024-02-28T12:17:29.660251700Z"
    }
   },
   "id": "9e1fc8775948665",
   "execution_count": 1573
  },
  {
   "cell_type": "code",
   "outputs": [
    {
     "name": "stdout",
     "output_type": "stream",
     "text": [
      "[훈련용]x_train: (274, 2),y_train:(274, 1)\n",
      "[테스트용]X_test: (118, 2),y_test:(118, 1)\n"
     ]
    }
   ],
   "source": [
    "print(f'[훈련용]x_train: {x_train.shape},y_train:{y_train.shape}')\n",
    "print(f'[테스트용]X_test: {x_test.shape},y_test:{y_test.shape}')"
   ],
   "metadata": {
    "collapsed": false,
    "ExecuteTime": {
     "end_time": "2024-02-28T12:17:29.741416100Z",
     "start_time": "2024-02-28T12:17:29.674204800Z"
    }
   },
   "id": "711c6406c3a680f0",
   "execution_count": 1574
  },
  {
   "cell_type": "markdown",
   "source": [
    "(5) 피쳐 스케일링 => 훈련 데이터로 생성"
   ],
   "metadata": {
    "collapsed": false
   },
   "id": "fc99662f22bfd082"
  },
  {
   "cell_type": "code",
   "outputs": [
    {
     "data": {
      "text/plain": "StandardScaler()",
      "text/html": "<style>#sk-container-id-182 {color: black;}#sk-container-id-182 pre{padding: 0;}#sk-container-id-182 div.sk-toggleable {background-color: white;}#sk-container-id-182 label.sk-toggleable__label {cursor: pointer;display: block;width: 100%;margin-bottom: 0;padding: 0.3em;box-sizing: border-box;text-align: center;}#sk-container-id-182 label.sk-toggleable__label-arrow:before {content: \"▸\";float: left;margin-right: 0.25em;color: #696969;}#sk-container-id-182 label.sk-toggleable__label-arrow:hover:before {color: black;}#sk-container-id-182 div.sk-estimator:hover label.sk-toggleable__label-arrow:before {color: black;}#sk-container-id-182 div.sk-toggleable__content {max-height: 0;max-width: 0;overflow: hidden;text-align: left;background-color: #f0f8ff;}#sk-container-id-182 div.sk-toggleable__content pre {margin: 0.2em;color: black;border-radius: 0.25em;background-color: #f0f8ff;}#sk-container-id-182 input.sk-toggleable__control:checked~div.sk-toggleable__content {max-height: 200px;max-width: 100%;overflow: auto;}#sk-container-id-182 input.sk-toggleable__control:checked~label.sk-toggleable__label-arrow:before {content: \"▾\";}#sk-container-id-182 div.sk-estimator input.sk-toggleable__control:checked~label.sk-toggleable__label {background-color: #d4ebff;}#sk-container-id-182 div.sk-label input.sk-toggleable__control:checked~label.sk-toggleable__label {background-color: #d4ebff;}#sk-container-id-182 input.sk-hidden--visually {border: 0;clip: rect(1px 1px 1px 1px);clip: rect(1px, 1px, 1px, 1px);height: 1px;margin: -1px;overflow: hidden;padding: 0;position: absolute;width: 1px;}#sk-container-id-182 div.sk-estimator {font-family: monospace;background-color: #f0f8ff;border: 1px dotted black;border-radius: 0.25em;box-sizing: border-box;margin-bottom: 0.5em;}#sk-container-id-182 div.sk-estimator:hover {background-color: #d4ebff;}#sk-container-id-182 div.sk-parallel-item::after {content: \"\";width: 100%;border-bottom: 1px solid gray;flex-grow: 1;}#sk-container-id-182 div.sk-label:hover label.sk-toggleable__label {background-color: #d4ebff;}#sk-container-id-182 div.sk-serial::before {content: \"\";position: absolute;border-left: 1px solid gray;box-sizing: border-box;top: 0;bottom: 0;left: 50%;z-index: 0;}#sk-container-id-182 div.sk-serial {display: flex;flex-direction: column;align-items: center;background-color: white;padding-right: 0.2em;padding-left: 0.2em;position: relative;}#sk-container-id-182 div.sk-item {position: relative;z-index: 1;}#sk-container-id-182 div.sk-parallel {display: flex;align-items: stretch;justify-content: center;background-color: white;position: relative;}#sk-container-id-182 div.sk-item::before, #sk-container-id-182 div.sk-parallel-item::before {content: \"\";position: absolute;border-left: 1px solid gray;box-sizing: border-box;top: 0;bottom: 0;left: 50%;z-index: -1;}#sk-container-id-182 div.sk-parallel-item {display: flex;flex-direction: column;z-index: 1;position: relative;background-color: white;}#sk-container-id-182 div.sk-parallel-item:first-child::after {align-self: flex-end;width: 50%;}#sk-container-id-182 div.sk-parallel-item:last-child::after {align-self: flex-start;width: 50%;}#sk-container-id-182 div.sk-parallel-item:only-child::after {width: 0;}#sk-container-id-182 div.sk-dashed-wrapped {border: 1px dashed gray;margin: 0 0.4em 0.5em 0.4em;box-sizing: border-box;padding-bottom: 0.4em;background-color: white;}#sk-container-id-182 div.sk-label label {font-family: monospace;font-weight: bold;display: inline-block;line-height: 1.2em;}#sk-container-id-182 div.sk-label-container {text-align: center;}#sk-container-id-182 div.sk-container {/* jupyter's `normalize.less` sets `[hidden] { display: none; }` but bootstrap.min.css set `[hidden] { display: none !important; }` so we also need the `!important` here to be able to override the default hidden behavior on the sphinx rendered scikit-learn.org. See: https://github.com/scikit-learn/scikit-learn/issues/21755 */display: inline-block !important;position: relative;}#sk-container-id-182 div.sk-text-repr-fallback {display: none;}</style><div id=\"sk-container-id-182\" class=\"sk-top-container\"><div class=\"sk-text-repr-fallback\"><pre>StandardScaler()</pre><b>In a Jupyter environment, please rerun this cell to show the HTML representation or trust the notebook. <br />On GitHub, the HTML representation is unable to render, please try loading this page with nbviewer.org.</b></div><div class=\"sk-container\" hidden><div class=\"sk-item\"><div class=\"sk-estimator sk-toggleable\"><input class=\"sk-toggleable__control sk-hidden--visually\" id=\"sk-estimator-id-182\" type=\"checkbox\" checked><label for=\"sk-estimator-id-182\" class=\"sk-toggleable__label sk-toggleable__label-arrow\">StandardScaler</label><div class=\"sk-toggleable__content\"><pre>StandardScaler()</pre></div></div></div></div></div>"
     },
     "execution_count": 1575,
     "metadata": {},
     "output_type": "execute_result"
    }
   ],
   "source": [
    "std_scaler = StandardScaler()\n",
    "std_scaler.fit(x_train)"
   ],
   "metadata": {
    "collapsed": false,
    "ExecuteTime": {
     "end_time": "2024-02-28T12:17:29.810598600Z",
     "start_time": "2024-02-28T12:17:29.720024800Z"
    }
   },
   "id": "7d5a3fb9ddc8f482",
   "execution_count": 1575
  },
  {
   "cell_type": "code",
   "outputs": [
    {
     "data": {
      "text/plain": "MinMaxScaler()",
      "text/html": "<style>#sk-container-id-183 {color: black;}#sk-container-id-183 pre{padding: 0;}#sk-container-id-183 div.sk-toggleable {background-color: white;}#sk-container-id-183 label.sk-toggleable__label {cursor: pointer;display: block;width: 100%;margin-bottom: 0;padding: 0.3em;box-sizing: border-box;text-align: center;}#sk-container-id-183 label.sk-toggleable__label-arrow:before {content: \"▸\";float: left;margin-right: 0.25em;color: #696969;}#sk-container-id-183 label.sk-toggleable__label-arrow:hover:before {color: black;}#sk-container-id-183 div.sk-estimator:hover label.sk-toggleable__label-arrow:before {color: black;}#sk-container-id-183 div.sk-toggleable__content {max-height: 0;max-width: 0;overflow: hidden;text-align: left;background-color: #f0f8ff;}#sk-container-id-183 div.sk-toggleable__content pre {margin: 0.2em;color: black;border-radius: 0.25em;background-color: #f0f8ff;}#sk-container-id-183 input.sk-toggleable__control:checked~div.sk-toggleable__content {max-height: 200px;max-width: 100%;overflow: auto;}#sk-container-id-183 input.sk-toggleable__control:checked~label.sk-toggleable__label-arrow:before {content: \"▾\";}#sk-container-id-183 div.sk-estimator input.sk-toggleable__control:checked~label.sk-toggleable__label {background-color: #d4ebff;}#sk-container-id-183 div.sk-label input.sk-toggleable__control:checked~label.sk-toggleable__label {background-color: #d4ebff;}#sk-container-id-183 input.sk-hidden--visually {border: 0;clip: rect(1px 1px 1px 1px);clip: rect(1px, 1px, 1px, 1px);height: 1px;margin: -1px;overflow: hidden;padding: 0;position: absolute;width: 1px;}#sk-container-id-183 div.sk-estimator {font-family: monospace;background-color: #f0f8ff;border: 1px dotted black;border-radius: 0.25em;box-sizing: border-box;margin-bottom: 0.5em;}#sk-container-id-183 div.sk-estimator:hover {background-color: #d4ebff;}#sk-container-id-183 div.sk-parallel-item::after {content: \"\";width: 100%;border-bottom: 1px solid gray;flex-grow: 1;}#sk-container-id-183 div.sk-label:hover label.sk-toggleable__label {background-color: #d4ebff;}#sk-container-id-183 div.sk-serial::before {content: \"\";position: absolute;border-left: 1px solid gray;box-sizing: border-box;top: 0;bottom: 0;left: 50%;z-index: 0;}#sk-container-id-183 div.sk-serial {display: flex;flex-direction: column;align-items: center;background-color: white;padding-right: 0.2em;padding-left: 0.2em;position: relative;}#sk-container-id-183 div.sk-item {position: relative;z-index: 1;}#sk-container-id-183 div.sk-parallel {display: flex;align-items: stretch;justify-content: center;background-color: white;position: relative;}#sk-container-id-183 div.sk-item::before, #sk-container-id-183 div.sk-parallel-item::before {content: \"\";position: absolute;border-left: 1px solid gray;box-sizing: border-box;top: 0;bottom: 0;left: 50%;z-index: -1;}#sk-container-id-183 div.sk-parallel-item {display: flex;flex-direction: column;z-index: 1;position: relative;background-color: white;}#sk-container-id-183 div.sk-parallel-item:first-child::after {align-self: flex-end;width: 50%;}#sk-container-id-183 div.sk-parallel-item:last-child::after {align-self: flex-start;width: 50%;}#sk-container-id-183 div.sk-parallel-item:only-child::after {width: 0;}#sk-container-id-183 div.sk-dashed-wrapped {border: 1px dashed gray;margin: 0 0.4em 0.5em 0.4em;box-sizing: border-box;padding-bottom: 0.4em;background-color: white;}#sk-container-id-183 div.sk-label label {font-family: monospace;font-weight: bold;display: inline-block;line-height: 1.2em;}#sk-container-id-183 div.sk-label-container {text-align: center;}#sk-container-id-183 div.sk-container {/* jupyter's `normalize.less` sets `[hidden] { display: none; }` but bootstrap.min.css set `[hidden] { display: none !important; }` so we also need the `!important` here to be able to override the default hidden behavior on the sphinx rendered scikit-learn.org. See: https://github.com/scikit-learn/scikit-learn/issues/21755 */display: inline-block !important;position: relative;}#sk-container-id-183 div.sk-text-repr-fallback {display: none;}</style><div id=\"sk-container-id-183\" class=\"sk-top-container\"><div class=\"sk-text-repr-fallback\"><pre>MinMaxScaler()</pre><b>In a Jupyter environment, please rerun this cell to show the HTML representation or trust the notebook. <br />On GitHub, the HTML representation is unable to render, please try loading this page with nbviewer.org.</b></div><div class=\"sk-container\" hidden><div class=\"sk-item\"><div class=\"sk-estimator sk-toggleable\"><input class=\"sk-toggleable__control sk-hidden--visually\" id=\"sk-estimator-id-183\" type=\"checkbox\" checked><label for=\"sk-estimator-id-183\" class=\"sk-toggleable__label sk-toggleable__label-arrow\">MinMaxScaler</label><div class=\"sk-toggleable__content\"><pre>MinMaxScaler()</pre></div></div></div></div></div>"
     },
     "execution_count": 1576,
     "metadata": {},
     "output_type": "execute_result"
    }
   ],
   "source": [
    "mm_scaler = MinMaxScaler()\n",
    "mm_scaler.fit(x_train)"
   ],
   "metadata": {
    "collapsed": false,
    "ExecuteTime": {
     "end_time": "2024-02-28T12:17:29.899346500Z",
     "start_time": "2024-02-28T12:17:29.812606600Z"
    }
   },
   "id": "c6fdb96b92e5d41",
   "execution_count": 1576
  },
  {
   "cell_type": "code",
   "outputs": [
    {
     "data": {
      "text/plain": "RobustScaler()",
      "text/html": "<style>#sk-container-id-184 {color: black;}#sk-container-id-184 pre{padding: 0;}#sk-container-id-184 div.sk-toggleable {background-color: white;}#sk-container-id-184 label.sk-toggleable__label {cursor: pointer;display: block;width: 100%;margin-bottom: 0;padding: 0.3em;box-sizing: border-box;text-align: center;}#sk-container-id-184 label.sk-toggleable__label-arrow:before {content: \"▸\";float: left;margin-right: 0.25em;color: #696969;}#sk-container-id-184 label.sk-toggleable__label-arrow:hover:before {color: black;}#sk-container-id-184 div.sk-estimator:hover label.sk-toggleable__label-arrow:before {color: black;}#sk-container-id-184 div.sk-toggleable__content {max-height: 0;max-width: 0;overflow: hidden;text-align: left;background-color: #f0f8ff;}#sk-container-id-184 div.sk-toggleable__content pre {margin: 0.2em;color: black;border-radius: 0.25em;background-color: #f0f8ff;}#sk-container-id-184 input.sk-toggleable__control:checked~div.sk-toggleable__content {max-height: 200px;max-width: 100%;overflow: auto;}#sk-container-id-184 input.sk-toggleable__control:checked~label.sk-toggleable__label-arrow:before {content: \"▾\";}#sk-container-id-184 div.sk-estimator input.sk-toggleable__control:checked~label.sk-toggleable__label {background-color: #d4ebff;}#sk-container-id-184 div.sk-label input.sk-toggleable__control:checked~label.sk-toggleable__label {background-color: #d4ebff;}#sk-container-id-184 input.sk-hidden--visually {border: 0;clip: rect(1px 1px 1px 1px);clip: rect(1px, 1px, 1px, 1px);height: 1px;margin: -1px;overflow: hidden;padding: 0;position: absolute;width: 1px;}#sk-container-id-184 div.sk-estimator {font-family: monospace;background-color: #f0f8ff;border: 1px dotted black;border-radius: 0.25em;box-sizing: border-box;margin-bottom: 0.5em;}#sk-container-id-184 div.sk-estimator:hover {background-color: #d4ebff;}#sk-container-id-184 div.sk-parallel-item::after {content: \"\";width: 100%;border-bottom: 1px solid gray;flex-grow: 1;}#sk-container-id-184 div.sk-label:hover label.sk-toggleable__label {background-color: #d4ebff;}#sk-container-id-184 div.sk-serial::before {content: \"\";position: absolute;border-left: 1px solid gray;box-sizing: border-box;top: 0;bottom: 0;left: 50%;z-index: 0;}#sk-container-id-184 div.sk-serial {display: flex;flex-direction: column;align-items: center;background-color: white;padding-right: 0.2em;padding-left: 0.2em;position: relative;}#sk-container-id-184 div.sk-item {position: relative;z-index: 1;}#sk-container-id-184 div.sk-parallel {display: flex;align-items: stretch;justify-content: center;background-color: white;position: relative;}#sk-container-id-184 div.sk-item::before, #sk-container-id-184 div.sk-parallel-item::before {content: \"\";position: absolute;border-left: 1px solid gray;box-sizing: border-box;top: 0;bottom: 0;left: 50%;z-index: -1;}#sk-container-id-184 div.sk-parallel-item {display: flex;flex-direction: column;z-index: 1;position: relative;background-color: white;}#sk-container-id-184 div.sk-parallel-item:first-child::after {align-self: flex-end;width: 50%;}#sk-container-id-184 div.sk-parallel-item:last-child::after {align-self: flex-start;width: 50%;}#sk-container-id-184 div.sk-parallel-item:only-child::after {width: 0;}#sk-container-id-184 div.sk-dashed-wrapped {border: 1px dashed gray;margin: 0 0.4em 0.5em 0.4em;box-sizing: border-box;padding-bottom: 0.4em;background-color: white;}#sk-container-id-184 div.sk-label label {font-family: monospace;font-weight: bold;display: inline-block;line-height: 1.2em;}#sk-container-id-184 div.sk-label-container {text-align: center;}#sk-container-id-184 div.sk-container {/* jupyter's `normalize.less` sets `[hidden] { display: none; }` but bootstrap.min.css set `[hidden] { display: none !important; }` so we also need the `!important` here to be able to override the default hidden behavior on the sphinx rendered scikit-learn.org. See: https://github.com/scikit-learn/scikit-learn/issues/21755 */display: inline-block !important;position: relative;}#sk-container-id-184 div.sk-text-repr-fallback {display: none;}</style><div id=\"sk-container-id-184\" class=\"sk-top-container\"><div class=\"sk-text-repr-fallback\"><pre>RobustScaler()</pre><b>In a Jupyter environment, please rerun this cell to show the HTML representation or trust the notebook. <br />On GitHub, the HTML representation is unable to render, please try loading this page with nbviewer.org.</b></div><div class=\"sk-container\" hidden><div class=\"sk-item\"><div class=\"sk-estimator sk-toggleable\"><input class=\"sk-toggleable__control sk-hidden--visually\" id=\"sk-estimator-id-184\" type=\"checkbox\" checked><label for=\"sk-estimator-id-184\" class=\"sk-toggleable__label sk-toggleable__label-arrow\">RobustScaler</label><div class=\"sk-toggleable__content\"><pre>RobustScaler()</pre></div></div></div></div></div>"
     },
     "execution_count": 1577,
     "metadata": {},
     "output_type": "execute_result"
    }
   ],
   "source": [
    "rb_scaler = RobustScaler()\n",
    "rb_scaler.fit(x_train)"
   ],
   "metadata": {
    "collapsed": false,
    "ExecuteTime": {
     "end_time": "2024-02-28T12:17:29.978756200Z",
     "start_time": "2024-02-28T12:17:29.901296400Z"
    }
   },
   "id": "dd0ff693c824cff0",
   "execution_count": 1577
  },
  {
   "cell_type": "code",
   "outputs": [],
   "source": [
    "# 3가지 버전의 스케일링된 데이터셋 준비\n",
    "std_X_train=std_scaler.transform(x_train)\n",
    "std_X_test=std_scaler.transform(x_test)\n",
    "\n",
    "mm_X_train=mm_scaler.transform(x_train)\n",
    "mm_X_test=mm_scaler.transform(x_test)\n",
    "\n",
    "rb_X_train=rb_scaler.transform(x_train)\n",
    "rb_X_test=rb_scaler.transform(x_test)"
   ],
   "metadata": {
    "collapsed": false,
    "ExecuteTime": {
     "end_time": "2024-02-28T12:17:29.989724800Z",
     "start_time": "2024-02-28T12:17:29.937178Z"
    }
   },
   "id": "c1099795c3929360",
   "execution_count": 1578
  },
  {
   "cell_type": "markdown",
   "source": [
    "(6) 학습 진행 <hr>"
   ],
   "metadata": {
    "collapsed": false
   },
   "id": "573f0bd37841f704"
  },
  {
   "cell_type": "code",
   "outputs": [],
   "source": [
    "from sklearn.linear_model import LinearRegression"
   ],
   "metadata": {
    "collapsed": false,
    "ExecuteTime": {
     "end_time": "2024-02-28T12:17:30.058117900Z",
     "start_time": "2024-02-28T12:17:29.987727200Z"
    }
   },
   "id": "529f837a5bd9efbe",
   "execution_count": 1579
  },
  {
   "cell_type": "code",
   "outputs": [
    {
     "name": "stdout",
     "output_type": "stream",
     "text": [
      "[모델 파라미터] =====>\n",
      "coef_[[-5.40966248 -1.32233633]]\n",
      "intercept_[23.02153285]\n"
     ]
    }
   ],
   "source": [
    "model = LinearRegression()\n",
    "model.fit(std_X_train,y_train)\n",
    "\n",
    "print(f'[모델 파라미터] =====>\\ncoef_{model.coef_}\\nintercept_{model.intercept_}')"
   ],
   "metadata": {
    "collapsed": false,
    "ExecuteTime": {
     "end_time": "2024-02-28T12:17:30.062023300Z",
     "start_time": "2024-02-28T12:17:30.027140200Z"
    }
   },
   "id": "ad39b986758d80fc",
   "execution_count": 1580
  },
  {
   "cell_type": "markdown",
   "source": [
    "(7) 모델 평가"
   ],
   "metadata": {
    "collapsed": false
   },
   "id": "61990227b56824b4"
  },
  {
   "cell_type": "code",
   "outputs": [
    {
     "name": "stdout",
     "output_type": "stream",
     "text": [
      "[0.7100975314299298, 0.7100975314299298, 0.7100975314299298]\n"
     ]
    }
   ],
   "source": [
    "sccaler_list = [std_scaler,mm_scaler,rb_scaler]\n",
    "train_list = []\n",
    "test_list = []\n",
    "for idx in sccaler_list:\n",
    "   idx.fit(x_train)\n",
    "   X_train=idx.transform(x_train)\n",
    "   model.fit(x_train,y_train)\n",
    "   train_model=model.score(x_train,y_train)\n",
    "   train_list.append(train_model)\n",
    "   X_test=idx.transform(x_test)\n",
    "   test_model=model.score(x_test,y_test)\n",
    "   test_list.append(test_model)\n",
    "print(train_list)"
   ],
   "metadata": {
    "collapsed": false,
    "ExecuteTime": {
     "end_time": "2024-02-28T12:17:30.132824500Z",
     "start_time": "2024-02-28T12:17:30.066010800Z"
    }
   },
   "id": "c2bc628e5336cad5",
   "execution_count": 1581
  },
  {
   "cell_type": "code",
   "outputs": [],
   "source": [
    "## poly도 써보아요 ~^^"
   ],
   "metadata": {
    "collapsed": false,
    "ExecuteTime": {
     "end_time": "2024-02-28T12:17:30.135776400Z",
     "start_time": "2024-02-28T12:17:30.096908100Z"
    }
   },
   "id": "ac10c338a1b2b196",
   "execution_count": 1582
  },
  {
   "cell_type": "code",
   "outputs": [],
   "source": [
    "from sklearn.preprocessing import PolynomialFeatures\n",
    "from sklearn.model_selection import train_test_split"
   ],
   "metadata": {
    "collapsed": false,
    "ExecuteTime": {
     "end_time": "2024-02-28T12:17:30.155710600Z",
     "start_time": "2024-02-28T12:17:30.137774100Z"
    }
   },
   "id": "d31f2cc6c2f5d1d7",
   "execution_count": 1583
  },
  {
   "cell_type": "code",
   "outputs": [],
   "source": [
    "x_train, x_test, y_train, y_test = train_test_split(featureDF,targetDF,test_size=0.3,random_state=50)"
   ],
   "metadata": {
    "collapsed": false,
    "ExecuteTime": {
     "end_time": "2024-02-28T12:17:30.200748900Z",
     "start_time": "2024-02-28T12:17:30.156707500Z"
    }
   },
   "id": "dada60fa960999da",
   "execution_count": 1584
  },
  {
   "cell_type": "code",
   "outputs": [],
   "source": [
    "poly_scaler = PolynomialFeatures(degree=4,include_bias=True)"
   ],
   "metadata": {
    "collapsed": false,
    "ExecuteTime": {
     "end_time": "2024-02-28T12:17:30.214734200Z",
     "start_time": "2024-02-28T12:17:30.174647200Z"
    }
   },
   "id": "19988bbfd8325e0a",
   "execution_count": 1585
  },
  {
   "cell_type": "code",
   "outputs": [],
   "source": [
    "x_train_poly = poly_scaler.fit_transform(x_train)\n",
    "x_test_poly = poly_scaler.transform(x_test)"
   ],
   "metadata": {
    "collapsed": false,
    "ExecuteTime": {
     "end_time": "2024-02-28T12:17:30.235765600Z",
     "start_time": "2024-02-28T12:17:30.205765100Z"
    }
   },
   "id": "c8dbdb1109610bfd",
   "execution_count": 1586
  },
  {
   "cell_type": "code",
   "outputs": [
    {
     "data": {
      "text/plain": "array([[1.00000000e+00, 3.23000000e+03, 8.00000000e+01, ...,\n        6.67705600e+10, 1.65376000e+09, 4.09600000e+07],\n       [1.00000000e+00, 1.97000000e+03, 6.80000000e+01, ...,\n        1.79452816e+10, 6.19431040e+08, 2.13813760e+07],\n       [1.00000000e+00, 4.90600000e+03, 1.67000000e+02, ...,\n        6.71255767e+11, 2.28495135e+10, 7.77796321e+08],\n       ...,\n       [1.00000000e+00, 3.60500000e+03, 1.25000000e+02, ...,\n        2.03062891e+11, 7.04101562e+09, 2.44140625e+08],\n       [1.00000000e+00, 2.37900000e+03, 9.40000000e+01, ...,\n        5.00085879e+10, 1.97595934e+09, 7.80748960e+07],\n       [1.00000000e+00, 2.95700000e+03, 8.80000000e+01, ...,\n        6.77123667e+10, 2.01511270e+09, 5.99695360e+07]])"
     },
     "execution_count": 1587,
     "metadata": {},
     "output_type": "execute_result"
    }
   ],
   "source": [
    "x_train_poly"
   ],
   "metadata": {
    "collapsed": false,
    "ExecuteTime": {
     "end_time": "2024-02-28T12:17:30.251797200Z",
     "start_time": "2024-02-28T12:17:30.239750900Z"
    }
   },
   "id": "467654e367e5e44a",
   "execution_count": 1587
  },
  {
   "cell_type": "code",
   "outputs": [
    {
     "data": {
      "text/plain": "array([[1.00000000e+00, 2.94500000e+03, 1.10000000e+02, ...,\n        1.04943602e+11, 3.91979500e+09, 1.46410000e+08],\n       [1.00000000e+00, 3.32900000e+03, 1.00000000e+02, ...,\n        1.10822410e+11, 3.32900000e+09, 1.00000000e+08],\n       [1.00000000e+00, 2.13000000e+03, 8.80000000e+01, ...,\n        3.51337536e+10, 1.45153536e+09, 5.99695360e+07],\n       ...,\n       [1.00000000e+00, 2.05000000e+03, 6.20000000e+01, ...,\n        1.61544100e+10, 4.88572400e+08, 1.47763360e+07],\n       [1.00000000e+00, 1.82500000e+03, 7.10000000e+01, ...,\n        1.67896806e+10, 6.53187575e+08, 2.54116810e+07],\n       [1.00000000e+00, 3.25000000e+03, 6.70000000e+01, ...,\n        4.74150625e+10, 9.77479750e+08, 2.01511210e+07]])"
     },
     "execution_count": 1588,
     "metadata": {},
     "output_type": "execute_result"
    }
   ],
   "source": [
    "x_test_poly"
   ],
   "metadata": {
    "collapsed": false,
    "ExecuteTime": {
     "end_time": "2024-02-28T12:17:30.278472200Z",
     "start_time": "2024-02-28T12:17:30.253790500Z"
    }
   },
   "id": "60690c7033579f8c",
   "execution_count": 1588
  },
  {
   "cell_type": "code",
   "outputs": [],
   "source": [
    "#학습진행\n",
    "from sklearn.linear_model import LinearRegression"
   ],
   "metadata": {
    "collapsed": false,
    "ExecuteTime": {
     "end_time": "2024-02-28T12:17:30.302305900Z",
     "start_time": "2024-02-28T12:17:30.267423500Z"
    }
   },
   "id": "8ffdee02688c30b9",
   "execution_count": 1589
  },
  {
   "cell_type": "code",
   "outputs": [
    {
     "data": {
      "text/plain": "LinearRegression()",
      "text/html": "<style>#sk-container-id-185 {color: black;}#sk-container-id-185 pre{padding: 0;}#sk-container-id-185 div.sk-toggleable {background-color: white;}#sk-container-id-185 label.sk-toggleable__label {cursor: pointer;display: block;width: 100%;margin-bottom: 0;padding: 0.3em;box-sizing: border-box;text-align: center;}#sk-container-id-185 label.sk-toggleable__label-arrow:before {content: \"▸\";float: left;margin-right: 0.25em;color: #696969;}#sk-container-id-185 label.sk-toggleable__label-arrow:hover:before {color: black;}#sk-container-id-185 div.sk-estimator:hover label.sk-toggleable__label-arrow:before {color: black;}#sk-container-id-185 div.sk-toggleable__content {max-height: 0;max-width: 0;overflow: hidden;text-align: left;background-color: #f0f8ff;}#sk-container-id-185 div.sk-toggleable__content pre {margin: 0.2em;color: black;border-radius: 0.25em;background-color: #f0f8ff;}#sk-container-id-185 input.sk-toggleable__control:checked~div.sk-toggleable__content {max-height: 200px;max-width: 100%;overflow: auto;}#sk-container-id-185 input.sk-toggleable__control:checked~label.sk-toggleable__label-arrow:before {content: \"▾\";}#sk-container-id-185 div.sk-estimator input.sk-toggleable__control:checked~label.sk-toggleable__label {background-color: #d4ebff;}#sk-container-id-185 div.sk-label input.sk-toggleable__control:checked~label.sk-toggleable__label {background-color: #d4ebff;}#sk-container-id-185 input.sk-hidden--visually {border: 0;clip: rect(1px 1px 1px 1px);clip: rect(1px, 1px, 1px, 1px);height: 1px;margin: -1px;overflow: hidden;padding: 0;position: absolute;width: 1px;}#sk-container-id-185 div.sk-estimator {font-family: monospace;background-color: #f0f8ff;border: 1px dotted black;border-radius: 0.25em;box-sizing: border-box;margin-bottom: 0.5em;}#sk-container-id-185 div.sk-estimator:hover {background-color: #d4ebff;}#sk-container-id-185 div.sk-parallel-item::after {content: \"\";width: 100%;border-bottom: 1px solid gray;flex-grow: 1;}#sk-container-id-185 div.sk-label:hover label.sk-toggleable__label {background-color: #d4ebff;}#sk-container-id-185 div.sk-serial::before {content: \"\";position: absolute;border-left: 1px solid gray;box-sizing: border-box;top: 0;bottom: 0;left: 50%;z-index: 0;}#sk-container-id-185 div.sk-serial {display: flex;flex-direction: column;align-items: center;background-color: white;padding-right: 0.2em;padding-left: 0.2em;position: relative;}#sk-container-id-185 div.sk-item {position: relative;z-index: 1;}#sk-container-id-185 div.sk-parallel {display: flex;align-items: stretch;justify-content: center;background-color: white;position: relative;}#sk-container-id-185 div.sk-item::before, #sk-container-id-185 div.sk-parallel-item::before {content: \"\";position: absolute;border-left: 1px solid gray;box-sizing: border-box;top: 0;bottom: 0;left: 50%;z-index: -1;}#sk-container-id-185 div.sk-parallel-item {display: flex;flex-direction: column;z-index: 1;position: relative;background-color: white;}#sk-container-id-185 div.sk-parallel-item:first-child::after {align-self: flex-end;width: 50%;}#sk-container-id-185 div.sk-parallel-item:last-child::after {align-self: flex-start;width: 50%;}#sk-container-id-185 div.sk-parallel-item:only-child::after {width: 0;}#sk-container-id-185 div.sk-dashed-wrapped {border: 1px dashed gray;margin: 0 0.4em 0.5em 0.4em;box-sizing: border-box;padding-bottom: 0.4em;background-color: white;}#sk-container-id-185 div.sk-label label {font-family: monospace;font-weight: bold;display: inline-block;line-height: 1.2em;}#sk-container-id-185 div.sk-label-container {text-align: center;}#sk-container-id-185 div.sk-container {/* jupyter's `normalize.less` sets `[hidden] { display: none; }` but bootstrap.min.css set `[hidden] { display: none !important; }` so we also need the `!important` here to be able to override the default hidden behavior on the sphinx rendered scikit-learn.org. See: https://github.com/scikit-learn/scikit-learn/issues/21755 */display: inline-block !important;position: relative;}#sk-container-id-185 div.sk-text-repr-fallback {display: none;}</style><div id=\"sk-container-id-185\" class=\"sk-top-container\"><div class=\"sk-text-repr-fallback\"><pre>LinearRegression()</pre><b>In a Jupyter environment, please rerun this cell to show the HTML representation or trust the notebook. <br />On GitHub, the HTML representation is unable to render, please try loading this page with nbviewer.org.</b></div><div class=\"sk-container\" hidden><div class=\"sk-item\"><div class=\"sk-estimator sk-toggleable\"><input class=\"sk-toggleable__control sk-hidden--visually\" id=\"sk-estimator-id-185\" type=\"checkbox\" checked><label for=\"sk-estimator-id-185\" class=\"sk-toggleable__label sk-toggleable__label-arrow\">LinearRegression</label><div class=\"sk-toggleable__content\"><pre>LinearRegression()</pre></div></div></div></div></div>"
     },
     "execution_count": 1590,
     "metadata": {},
     "output_type": "execute_result"
    }
   ],
   "source": [
    "model = LinearRegression()\n",
    "model.fit(x_train_poly,y_train)"
   ],
   "metadata": {
    "collapsed": false,
    "ExecuteTime": {
     "end_time": "2024-02-28T12:17:30.348185700Z",
     "start_time": "2024-02-28T12:17:30.286360200Z"
    }
   },
   "id": "c7ebd8414e5c19df",
   "execution_count": 1590
  },
  {
   "cell_type": "code",
   "outputs": [
    {
     "name": "stdout",
     "output_type": "stream",
     "text": [
      "[모델 파라미터] =====>\n",
      "coef_[[ 0.00000000e+00  7.74327579e-02  6.31794755e-02 -3.40752843e-05\n",
      "  -4.10480368e-04  2.38616339e-03  1.09014848e-08 -2.56541009e-07\n",
      "   9.13082365e-06 -8.06714303e-05 -1.85314262e-12  1.02088716e-10\n",
      "  -2.78669719e-09  2.27219057e-08  7.86010022e-09]]\n",
      "intercept_[-11.14703997]\n"
     ]
    }
   ],
   "source": [
    "print(f'[모델 파라미터] =====>\\ncoef_{model.coef_}\\nintercept_{model.intercept_}')"
   ],
   "metadata": {
    "collapsed": false,
    "ExecuteTime": {
     "end_time": "2024-02-28T12:17:30.366433Z",
     "start_time": "2024-02-28T12:17:30.324233100Z"
    }
   },
   "id": "decf1a71f9e3d4f5",
   "execution_count": 1591
  },
  {
   "cell_type": "code",
   "outputs": [
    {
     "name": "stdout",
     "output_type": "stream",
     "text": [
      "[Train Score]: 0.7354784674071766 --- [Test Score]: 0.7992566643660369\n"
     ]
    }
   ],
   "source": [
    "train_score = model.score(x_train_poly,y_train)\n",
    "test_score = model.score(x_test_poly,y_test)\n",
    "print(f'[Train Score]: {train_score} --- [Test Score]: {test_score}')"
   ],
   "metadata": {
    "collapsed": false,
    "ExecuteTime": {
     "end_time": "2024-02-28T12:17:30.421942800Z",
     "start_time": "2024-02-28T12:17:30.357002400Z"
    }
   },
   "id": "953e4bc2767514b8",
   "execution_count": 1592
  },
  {
   "cell_type": "code",
   "outputs": [],
   "source": [],
   "metadata": {
    "collapsed": false,
    "ExecuteTime": {
     "end_time": "2024-02-28T12:17:30.444175200Z",
     "start_time": "2024-02-28T12:17:30.409982800Z"
    }
   },
   "id": "c9c8d0e32c3f63bd",
   "execution_count": 1592
  }
 ],
 "metadata": {
  "kernelspec": {
   "display_name": "Python 3",
   "language": "python",
   "name": "python3"
  },
  "language_info": {
   "codemirror_mode": {
    "name": "ipython",
    "version": 2
   },
   "file_extension": ".py",
   "mimetype": "text/x-python",
   "name": "python",
   "nbconvert_exporter": "python",
   "pygments_lexer": "ipython2",
   "version": "2.7.6"
  }
 },
 "nbformat": 4,
 "nbformat_minor": 5
}
